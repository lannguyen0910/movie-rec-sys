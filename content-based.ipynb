{
  "nbformat": 4,
  "nbformat_minor": 0,
  "metadata": {
    "colab": {
      "name": "content-based.ipynb",
      "provenance": []
    },
    "kernelspec": {
      "name": "python3",
      "display_name": "Python 3"
    },
    "language_info": {
      "name": "python"
    }
  },
  "cells": [
    {
      "cell_type": "markdown",
      "metadata": {
        "id": "ZEQjXTwaCK2G"
      },
      "source": [
        "<p align=\"center\">\n",
        "    <a href=\"https://colab.research.google.com/drive/1Mr5BloC0Ub96vBAKKy-SZg6623tRdT9l?usp=sharing\">\n",
        "    <img src=\"https://colab.research.google.com/assets/colab-badge.svg\" alt=\"Open In Colab\"/>\n",
        "    </a>\n",
        "</p>"
      ]
    },
    {
      "cell_type": "code",
      "metadata": {
        "id": "2c6bxYzgCK_C",
        "colab": {
          "base_uri": "https://localhost:8080/"
        },
        "outputId": "f2e18bf5-a273-4988-9566-c0e2bd40ecff"
      },
      "source": [
        "!gdown https://drive.google.com/uc?id=1GmqNwmZ0FpCGXMfQfsqEU3RqD1lGMuE2 # tags\n",
        "!gdown https://drive.google.com/uc?id=1oCZZDzovsfBa1l97li1hCJ4aDyE9HmvY # ratings\n",
        "!gdown https://drive.google.com/uc?id=1HICUSCWLSbU_sug2r5fZZYJsPI1wA5e6 # movies\n",
        "!gdown https://drive.google.com/uc?id=1fSGJaSAgBqEc7fm1O4L4fps6N3OZxR3Z # links\n",
        "!gdown https://drive.google.com/uc?id=11Mxekus6vaBFz5f_-RVMKy_40vKqLPs5 # genome tags\n",
        "!gdown https://drive.google.com/uc?id=14M40G24e0WXln4fGP8phKeIihRCA_AUd # genome scores"
      ],
      "execution_count": 1,
      "outputs": [
        {
          "output_type": "stream",
          "name": "stdout",
          "text": [
            "Downloading...\n",
            "From: https://drive.google.com/uc?id=1GmqNwmZ0FpCGXMfQfsqEU3RqD1lGMuE2\n",
            "To: /content/tag.csv\n",
            "21.7MB [00:00, 133MB/s]\n",
            "Downloading...\n",
            "From: https://drive.google.com/uc?id=1oCZZDzovsfBa1l97li1hCJ4aDyE9HmvY\n",
            "To: /content/rating.csv\n",
            "690MB [00:04, 170MB/s]\n",
            "Downloading...\n",
            "From: https://drive.google.com/uc?id=1HICUSCWLSbU_sug2r5fZZYJsPI1wA5e6\n",
            "To: /content/movie.csv\n",
            "100% 1.49M/1.49M [00:00<00:00, 47.3MB/s]\n",
            "Downloading...\n",
            "From: https://drive.google.com/uc?id=1fSGJaSAgBqEc7fm1O4L4fps6N3OZxR3Z\n",
            "To: /content/link.csv\n",
            "100% 539k/539k [00:00<00:00, 78.6MB/s]\n",
            "Downloading...\n",
            "From: https://drive.google.com/uc?id=11Mxekus6vaBFz5f_-RVMKy_40vKqLPs5\n",
            "To: /content/genome_tags.csv\n",
            "100% 20.4k/20.4k [00:00<00:00, 30.8MB/s]\n",
            "Downloading...\n",
            "From: https://drive.google.com/uc?id=14M40G24e0WXln4fGP8phKeIihRCA_AUd\n",
            "To: /content/genome_scores.csv\n",
            "214MB [00:01, 162MB/s]\n"
          ]
        }
      ]
    },
    {
      "cell_type": "code",
      "metadata": {
        "id": "yQmyd9KVrAzg"
      },
      "source": [
        "import pandas as pd\n",
        "import numpy as np\n",
        "import matplotlib.pyplot as plt\n",
        "import pickle\n",
        "\n",
        "from sklearn.feature_extraction.text import TfidfVectorizer\n",
        "from sklearn.metrics.pairwise import sigmoid_kernel\n",
        "\n",
        "%matplotlib inline\n",
        "\n",
        "df_movies = pd.read_csv('./movie.csv')\n",
        "df_ratings = pd.read_csv('./rating.csv')\n",
        "df_tags = pd.read_csv('./tag.csv')\n",
        "df_links = pd.read_csv('./link.csv')\n",
        "df_genome_scores = pd.read_csv('./genome_scores.csv')\n",
        "df_genome_tags = pd.read_csv('./genome_tags.csv')"
      ],
      "execution_count": 2,
      "outputs": []
    },
    {
      "cell_type": "code",
      "metadata": {
        "colab": {
          "base_uri": "https://localhost:8080/",
          "height": 206
        },
        "id": "vQiXIZGoEXlU",
        "outputId": "caf1f19b-feb7-4eb2-e7e3-c0d68c5baca2"
      },
      "source": [
        "df_movies.head()"
      ],
      "execution_count": 3,
      "outputs": [
        {
          "output_type": "execute_result",
          "data": {
            "text/html": [
              "<div>\n",
              "<style scoped>\n",
              "    .dataframe tbody tr th:only-of-type {\n",
              "        vertical-align: middle;\n",
              "    }\n",
              "\n",
              "    .dataframe tbody tr th {\n",
              "        vertical-align: top;\n",
              "    }\n",
              "\n",
              "    .dataframe thead th {\n",
              "        text-align: right;\n",
              "    }\n",
              "</style>\n",
              "<table border=\"1\" class=\"dataframe\">\n",
              "  <thead>\n",
              "    <tr style=\"text-align: right;\">\n",
              "      <th></th>\n",
              "      <th>movieId</th>\n",
              "      <th>title</th>\n",
              "      <th>genres</th>\n",
              "    </tr>\n",
              "  </thead>\n",
              "  <tbody>\n",
              "    <tr>\n",
              "      <th>0</th>\n",
              "      <td>1</td>\n",
              "      <td>Toy Story (1995)</td>\n",
              "      <td>Adventure|Animation|Children|Comedy|Fantasy</td>\n",
              "    </tr>\n",
              "    <tr>\n",
              "      <th>1</th>\n",
              "      <td>2</td>\n",
              "      <td>Jumanji (1995)</td>\n",
              "      <td>Adventure|Children|Fantasy</td>\n",
              "    </tr>\n",
              "    <tr>\n",
              "      <th>2</th>\n",
              "      <td>3</td>\n",
              "      <td>Grumpier Old Men (1995)</td>\n",
              "      <td>Comedy|Romance</td>\n",
              "    </tr>\n",
              "    <tr>\n",
              "      <th>3</th>\n",
              "      <td>4</td>\n",
              "      <td>Waiting to Exhale (1995)</td>\n",
              "      <td>Comedy|Drama|Romance</td>\n",
              "    </tr>\n",
              "    <tr>\n",
              "      <th>4</th>\n",
              "      <td>5</td>\n",
              "      <td>Father of the Bride Part II (1995)</td>\n",
              "      <td>Comedy</td>\n",
              "    </tr>\n",
              "  </tbody>\n",
              "</table>\n",
              "</div>"
            ],
            "text/plain": [
              "   movieId  ...                                       genres\n",
              "0        1  ...  Adventure|Animation|Children|Comedy|Fantasy\n",
              "1        2  ...                   Adventure|Children|Fantasy\n",
              "2        3  ...                               Comedy|Romance\n",
              "3        4  ...                         Comedy|Drama|Romance\n",
              "4        5  ...                                       Comedy\n",
              "\n",
              "[5 rows x 3 columns]"
            ]
          },
          "metadata": {},
          "execution_count": 3
        }
      ]
    },
    {
      "cell_type": "code",
      "metadata": {
        "colab": {
          "base_uri": "https://localhost:8080/",
          "height": 206
        },
        "id": "GsE_eYtlEq7N",
        "outputId": "9be85e17-3a39-4598-bdb5-91e84b1ffd9c"
      },
      "source": [
        "df_ratings.head()"
      ],
      "execution_count": 4,
      "outputs": [
        {
          "output_type": "execute_result",
          "data": {
            "text/html": [
              "<div>\n",
              "<style scoped>\n",
              "    .dataframe tbody tr th:only-of-type {\n",
              "        vertical-align: middle;\n",
              "    }\n",
              "\n",
              "    .dataframe tbody tr th {\n",
              "        vertical-align: top;\n",
              "    }\n",
              "\n",
              "    .dataframe thead th {\n",
              "        text-align: right;\n",
              "    }\n",
              "</style>\n",
              "<table border=\"1\" class=\"dataframe\">\n",
              "  <thead>\n",
              "    <tr style=\"text-align: right;\">\n",
              "      <th></th>\n",
              "      <th>userId</th>\n",
              "      <th>movieId</th>\n",
              "      <th>rating</th>\n",
              "      <th>timestamp</th>\n",
              "    </tr>\n",
              "  </thead>\n",
              "  <tbody>\n",
              "    <tr>\n",
              "      <th>0</th>\n",
              "      <td>1</td>\n",
              "      <td>2</td>\n",
              "      <td>3.5</td>\n",
              "      <td>2005-04-02 23:53:47</td>\n",
              "    </tr>\n",
              "    <tr>\n",
              "      <th>1</th>\n",
              "      <td>1</td>\n",
              "      <td>29</td>\n",
              "      <td>3.5</td>\n",
              "      <td>2005-04-02 23:31:16</td>\n",
              "    </tr>\n",
              "    <tr>\n",
              "      <th>2</th>\n",
              "      <td>1</td>\n",
              "      <td>32</td>\n",
              "      <td>3.5</td>\n",
              "      <td>2005-04-02 23:33:39</td>\n",
              "    </tr>\n",
              "    <tr>\n",
              "      <th>3</th>\n",
              "      <td>1</td>\n",
              "      <td>47</td>\n",
              "      <td>3.5</td>\n",
              "      <td>2005-04-02 23:32:07</td>\n",
              "    </tr>\n",
              "    <tr>\n",
              "      <th>4</th>\n",
              "      <td>1</td>\n",
              "      <td>50</td>\n",
              "      <td>3.5</td>\n",
              "      <td>2005-04-02 23:29:40</td>\n",
              "    </tr>\n",
              "  </tbody>\n",
              "</table>\n",
              "</div>"
            ],
            "text/plain": [
              "   userId  movieId  rating            timestamp\n",
              "0       1        2     3.5  2005-04-02 23:53:47\n",
              "1       1       29     3.5  2005-04-02 23:31:16\n",
              "2       1       32     3.5  2005-04-02 23:33:39\n",
              "3       1       47     3.5  2005-04-02 23:32:07\n",
              "4       1       50     3.5  2005-04-02 23:29:40"
            ]
          },
          "metadata": {},
          "execution_count": 4
        }
      ]
    },
    {
      "cell_type": "code",
      "metadata": {
        "colab": {
          "base_uri": "https://localhost:8080/",
          "height": 206
        },
        "id": "V2G3lj7IEs6e",
        "outputId": "1ff88a30-3ef1-48f6-cc0a-29020015d3c9"
      },
      "source": [
        "df_tags.head()"
      ],
      "execution_count": 5,
      "outputs": [
        {
          "output_type": "execute_result",
          "data": {
            "text/html": [
              "<div>\n",
              "<style scoped>\n",
              "    .dataframe tbody tr th:only-of-type {\n",
              "        vertical-align: middle;\n",
              "    }\n",
              "\n",
              "    .dataframe tbody tr th {\n",
              "        vertical-align: top;\n",
              "    }\n",
              "\n",
              "    .dataframe thead th {\n",
              "        text-align: right;\n",
              "    }\n",
              "</style>\n",
              "<table border=\"1\" class=\"dataframe\">\n",
              "  <thead>\n",
              "    <tr style=\"text-align: right;\">\n",
              "      <th></th>\n",
              "      <th>userId</th>\n",
              "      <th>movieId</th>\n",
              "      <th>tag</th>\n",
              "      <th>timestamp</th>\n",
              "    </tr>\n",
              "  </thead>\n",
              "  <tbody>\n",
              "    <tr>\n",
              "      <th>0</th>\n",
              "      <td>18</td>\n",
              "      <td>4141</td>\n",
              "      <td>Mark Waters</td>\n",
              "      <td>2009-04-24 18:19:40</td>\n",
              "    </tr>\n",
              "    <tr>\n",
              "      <th>1</th>\n",
              "      <td>65</td>\n",
              "      <td>208</td>\n",
              "      <td>dark hero</td>\n",
              "      <td>2013-05-10 01:41:18</td>\n",
              "    </tr>\n",
              "    <tr>\n",
              "      <th>2</th>\n",
              "      <td>65</td>\n",
              "      <td>353</td>\n",
              "      <td>dark hero</td>\n",
              "      <td>2013-05-10 01:41:19</td>\n",
              "    </tr>\n",
              "    <tr>\n",
              "      <th>3</th>\n",
              "      <td>65</td>\n",
              "      <td>521</td>\n",
              "      <td>noir thriller</td>\n",
              "      <td>2013-05-10 01:39:43</td>\n",
              "    </tr>\n",
              "    <tr>\n",
              "      <th>4</th>\n",
              "      <td>65</td>\n",
              "      <td>592</td>\n",
              "      <td>dark hero</td>\n",
              "      <td>2013-05-10 01:41:18</td>\n",
              "    </tr>\n",
              "  </tbody>\n",
              "</table>\n",
              "</div>"
            ],
            "text/plain": [
              "   userId  movieId            tag            timestamp\n",
              "0      18     4141    Mark Waters  2009-04-24 18:19:40\n",
              "1      65      208      dark hero  2013-05-10 01:41:18\n",
              "2      65      353      dark hero  2013-05-10 01:41:19\n",
              "3      65      521  noir thriller  2013-05-10 01:39:43\n",
              "4      65      592      dark hero  2013-05-10 01:41:18"
            ]
          },
          "metadata": {},
          "execution_count": 5
        }
      ]
    },
    {
      "cell_type": "code",
      "metadata": {
        "colab": {
          "base_uri": "https://localhost:8080/",
          "height": 206
        },
        "id": "t89pAKtlEujY",
        "outputId": "517552ae-74fd-47c3-c3d2-357316a57826"
      },
      "source": [
        "df_links.head()"
      ],
      "execution_count": 6,
      "outputs": [
        {
          "output_type": "execute_result",
          "data": {
            "text/html": [
              "<div>\n",
              "<style scoped>\n",
              "    .dataframe tbody tr th:only-of-type {\n",
              "        vertical-align: middle;\n",
              "    }\n",
              "\n",
              "    .dataframe tbody tr th {\n",
              "        vertical-align: top;\n",
              "    }\n",
              "\n",
              "    .dataframe thead th {\n",
              "        text-align: right;\n",
              "    }\n",
              "</style>\n",
              "<table border=\"1\" class=\"dataframe\">\n",
              "  <thead>\n",
              "    <tr style=\"text-align: right;\">\n",
              "      <th></th>\n",
              "      <th>movieId</th>\n",
              "      <th>imdbId</th>\n",
              "      <th>tmdbId</th>\n",
              "    </tr>\n",
              "  </thead>\n",
              "  <tbody>\n",
              "    <tr>\n",
              "      <th>0</th>\n",
              "      <td>1</td>\n",
              "      <td>114709</td>\n",
              "      <td>862.0</td>\n",
              "    </tr>\n",
              "    <tr>\n",
              "      <th>1</th>\n",
              "      <td>2</td>\n",
              "      <td>113497</td>\n",
              "      <td>8844.0</td>\n",
              "    </tr>\n",
              "    <tr>\n",
              "      <th>2</th>\n",
              "      <td>3</td>\n",
              "      <td>113228</td>\n",
              "      <td>15602.0</td>\n",
              "    </tr>\n",
              "    <tr>\n",
              "      <th>3</th>\n",
              "      <td>4</td>\n",
              "      <td>114885</td>\n",
              "      <td>31357.0</td>\n",
              "    </tr>\n",
              "    <tr>\n",
              "      <th>4</th>\n",
              "      <td>5</td>\n",
              "      <td>113041</td>\n",
              "      <td>11862.0</td>\n",
              "    </tr>\n",
              "  </tbody>\n",
              "</table>\n",
              "</div>"
            ],
            "text/plain": [
              "   movieId  imdbId   tmdbId\n",
              "0        1  114709    862.0\n",
              "1        2  113497   8844.0\n",
              "2        3  113228  15602.0\n",
              "3        4  114885  31357.0\n",
              "4        5  113041  11862.0"
            ]
          },
          "metadata": {},
          "execution_count": 6
        }
      ]
    },
    {
      "cell_type": "code",
      "metadata": {
        "colab": {
          "base_uri": "https://localhost:8080/",
          "height": 206
        },
        "id": "CwZSNUDsEwFi",
        "outputId": "db7bffd6-b810-4dc4-80a5-bf57e6e9d67f"
      },
      "source": [
        "df_genome_scores.head()"
      ],
      "execution_count": 7,
      "outputs": [
        {
          "output_type": "execute_result",
          "data": {
            "text/html": [
              "<div>\n",
              "<style scoped>\n",
              "    .dataframe tbody tr th:only-of-type {\n",
              "        vertical-align: middle;\n",
              "    }\n",
              "\n",
              "    .dataframe tbody tr th {\n",
              "        vertical-align: top;\n",
              "    }\n",
              "\n",
              "    .dataframe thead th {\n",
              "        text-align: right;\n",
              "    }\n",
              "</style>\n",
              "<table border=\"1\" class=\"dataframe\">\n",
              "  <thead>\n",
              "    <tr style=\"text-align: right;\">\n",
              "      <th></th>\n",
              "      <th>movieId</th>\n",
              "      <th>tagId</th>\n",
              "      <th>relevance</th>\n",
              "    </tr>\n",
              "  </thead>\n",
              "  <tbody>\n",
              "    <tr>\n",
              "      <th>0</th>\n",
              "      <td>1</td>\n",
              "      <td>1</td>\n",
              "      <td>0.02500</td>\n",
              "    </tr>\n",
              "    <tr>\n",
              "      <th>1</th>\n",
              "      <td>1</td>\n",
              "      <td>2</td>\n",
              "      <td>0.02500</td>\n",
              "    </tr>\n",
              "    <tr>\n",
              "      <th>2</th>\n",
              "      <td>1</td>\n",
              "      <td>3</td>\n",
              "      <td>0.05775</td>\n",
              "    </tr>\n",
              "    <tr>\n",
              "      <th>3</th>\n",
              "      <td>1</td>\n",
              "      <td>4</td>\n",
              "      <td>0.09675</td>\n",
              "    </tr>\n",
              "    <tr>\n",
              "      <th>4</th>\n",
              "      <td>1</td>\n",
              "      <td>5</td>\n",
              "      <td>0.14675</td>\n",
              "    </tr>\n",
              "  </tbody>\n",
              "</table>\n",
              "</div>"
            ],
            "text/plain": [
              "   movieId  tagId  relevance\n",
              "0        1      1    0.02500\n",
              "1        1      2    0.02500\n",
              "2        1      3    0.05775\n",
              "3        1      4    0.09675\n",
              "4        1      5    0.14675"
            ]
          },
          "metadata": {},
          "execution_count": 7
        }
      ]
    },
    {
      "cell_type": "code",
      "metadata": {
        "colab": {
          "base_uri": "https://localhost:8080/",
          "height": 206
        },
        "id": "ZkRGykDLEydm",
        "outputId": "4b1f62cb-53de-45e5-b7a4-d1abfa65d0cb"
      },
      "source": [
        "df_genome_tags.head()"
      ],
      "execution_count": 8,
      "outputs": [
        {
          "output_type": "execute_result",
          "data": {
            "text/html": [
              "<div>\n",
              "<style scoped>\n",
              "    .dataframe tbody tr th:only-of-type {\n",
              "        vertical-align: middle;\n",
              "    }\n",
              "\n",
              "    .dataframe tbody tr th {\n",
              "        vertical-align: top;\n",
              "    }\n",
              "\n",
              "    .dataframe thead th {\n",
              "        text-align: right;\n",
              "    }\n",
              "</style>\n",
              "<table border=\"1\" class=\"dataframe\">\n",
              "  <thead>\n",
              "    <tr style=\"text-align: right;\">\n",
              "      <th></th>\n",
              "      <th>tagId</th>\n",
              "      <th>tag</th>\n",
              "    </tr>\n",
              "  </thead>\n",
              "  <tbody>\n",
              "    <tr>\n",
              "      <th>0</th>\n",
              "      <td>1</td>\n",
              "      <td>007</td>\n",
              "    </tr>\n",
              "    <tr>\n",
              "      <th>1</th>\n",
              "      <td>2</td>\n",
              "      <td>007 (series)</td>\n",
              "    </tr>\n",
              "    <tr>\n",
              "      <th>2</th>\n",
              "      <td>3</td>\n",
              "      <td>18th century</td>\n",
              "    </tr>\n",
              "    <tr>\n",
              "      <th>3</th>\n",
              "      <td>4</td>\n",
              "      <td>1920s</td>\n",
              "    </tr>\n",
              "    <tr>\n",
              "      <th>4</th>\n",
              "      <td>5</td>\n",
              "      <td>1930s</td>\n",
              "    </tr>\n",
              "  </tbody>\n",
              "</table>\n",
              "</div>"
            ],
            "text/plain": [
              "   tagId           tag\n",
              "0      1           007\n",
              "1      2  007 (series)\n",
              "2      3  18th century\n",
              "3      4         1920s\n",
              "4      5         1930s"
            ]
          },
          "metadata": {},
          "execution_count": 8
        }
      ]
    },
    {
      "cell_type": "markdown",
      "metadata": {
        "id": "4g4YTUexFIBX"
      },
      "source": [
        "# Explore tags data for movie name \"Matrix\""
      ]
    },
    {
      "cell_type": "code",
      "metadata": {
        "colab": {
          "base_uri": "https://localhost:8080/",
          "height": 143
        },
        "id": "ccDO-munE-up",
        "outputId": "59659c4c-adcb-450e-f692-08cd1a160e74"
      },
      "source": [
        "matrix_movie = df_movies[df_movies['title'].str.contains('Matrix')]\n",
        "matrix_movie"
      ],
      "execution_count": 9,
      "outputs": [
        {
          "output_type": "execute_result",
          "data": {
            "text/html": [
              "<div>\n",
              "<style scoped>\n",
              "    .dataframe tbody tr th:only-of-type {\n",
              "        vertical-align: middle;\n",
              "    }\n",
              "\n",
              "    .dataframe tbody tr th {\n",
              "        vertical-align: top;\n",
              "    }\n",
              "\n",
              "    .dataframe thead th {\n",
              "        text-align: right;\n",
              "    }\n",
              "</style>\n",
              "<table border=\"1\" class=\"dataframe\">\n",
              "  <thead>\n",
              "    <tr style=\"text-align: right;\">\n",
              "      <th></th>\n",
              "      <th>movieId</th>\n",
              "      <th>title</th>\n",
              "      <th>genres</th>\n",
              "    </tr>\n",
              "  </thead>\n",
              "  <tbody>\n",
              "    <tr>\n",
              "      <th>2486</th>\n",
              "      <td>2571</td>\n",
              "      <td>Matrix, The (1999)</td>\n",
              "      <td>Action|Sci-Fi|Thriller</td>\n",
              "    </tr>\n",
              "    <tr>\n",
              "      <th>6260</th>\n",
              "      <td>6365</td>\n",
              "      <td>Matrix Reloaded, The (2003)</td>\n",
              "      <td>Action|Adventure|Sci-Fi|Thriller|IMAX</td>\n",
              "    </tr>\n",
              "    <tr>\n",
              "      <th>6822</th>\n",
              "      <td>6934</td>\n",
              "      <td>Matrix Revolutions, The (2003)</td>\n",
              "      <td>Action|Adventure|Sci-Fi|Thriller|IMAX</td>\n",
              "    </tr>\n",
              "  </tbody>\n",
              "</table>\n",
              "</div>"
            ],
            "text/plain": [
              "      movieId  ...                                 genres\n",
              "2486     2571  ...                 Action|Sci-Fi|Thriller\n",
              "6260     6365  ...  Action|Adventure|Sci-Fi|Thriller|IMAX\n",
              "6822     6934  ...  Action|Adventure|Sci-Fi|Thriller|IMAX\n",
              "\n",
              "[3 rows x 3 columns]"
            ]
          },
          "metadata": {},
          "execution_count": 9
        }
      ]
    },
    {
      "cell_type": "code",
      "metadata": {
        "colab": {
          "base_uri": "https://localhost:8080/",
          "height": 424
        },
        "id": "1PZLZE8KFo6Y",
        "outputId": "4174a4ea-a318-472e-aff2-84af35b8f58d"
      },
      "source": [
        "matrix_movie_tags = df_tags[df_tags['movieId'] == 2571]\n",
        "matrix_movie_tags"
      ],
      "execution_count": 10,
      "outputs": [
        {
          "output_type": "execute_result",
          "data": {
            "text/html": [
              "<div>\n",
              "<style scoped>\n",
              "    .dataframe tbody tr th:only-of-type {\n",
              "        vertical-align: middle;\n",
              "    }\n",
              "\n",
              "    .dataframe tbody tr th {\n",
              "        vertical-align: top;\n",
              "    }\n",
              "\n",
              "    .dataframe thead th {\n",
              "        text-align: right;\n",
              "    }\n",
              "</style>\n",
              "<table border=\"1\" class=\"dataframe\">\n",
              "  <thead>\n",
              "    <tr style=\"text-align: right;\">\n",
              "      <th></th>\n",
              "      <th>userId</th>\n",
              "      <th>movieId</th>\n",
              "      <th>tag</th>\n",
              "      <th>timestamp</th>\n",
              "    </tr>\n",
              "  </thead>\n",
              "  <tbody>\n",
              "    <tr>\n",
              "      <th>385</th>\n",
              "      <td>342</td>\n",
              "      <td>2571</td>\n",
              "      <td>post-apocalyptic</td>\n",
              "      <td>2012-01-25 17:52:01</td>\n",
              "    </tr>\n",
              "    <tr>\n",
              "      <th>386</th>\n",
              "      <td>342</td>\n",
              "      <td>2571</td>\n",
              "      <td>sci-fi</td>\n",
              "      <td>2012-01-25 17:51:58</td>\n",
              "    </tr>\n",
              "    <tr>\n",
              "      <th>387</th>\n",
              "      <td>342</td>\n",
              "      <td>2571</td>\n",
              "      <td>virtual reality</td>\n",
              "      <td>2012-01-25 17:52:04</td>\n",
              "    </tr>\n",
              "    <tr>\n",
              "      <th>1193</th>\n",
              "      <td>505</td>\n",
              "      <td>2571</td>\n",
              "      <td>post-apocalyptic</td>\n",
              "      <td>2011-03-09 07:17:37</td>\n",
              "    </tr>\n",
              "    <tr>\n",
              "      <th>1194</th>\n",
              "      <td>505</td>\n",
              "      <td>2571</td>\n",
              "      <td>virtual reality</td>\n",
              "      <td>2011-03-09 07:17:33</td>\n",
              "    </tr>\n",
              "    <tr>\n",
              "      <th>...</th>\n",
              "      <td>...</td>\n",
              "      <td>...</td>\n",
              "      <td>...</td>\n",
              "      <td>...</td>\n",
              "    </tr>\n",
              "    <tr>\n",
              "      <th>463932</th>\n",
              "      <td>138233</td>\n",
              "      <td>2571</td>\n",
              "      <td>philosophical</td>\n",
              "      <td>2011-11-23 03:53:55</td>\n",
              "    </tr>\n",
              "    <tr>\n",
              "      <th>463933</th>\n",
              "      <td>138233</td>\n",
              "      <td>2571</td>\n",
              "      <td>virtual reality</td>\n",
              "      <td>2011-11-23 03:54:22</td>\n",
              "    </tr>\n",
              "    <tr>\n",
              "      <th>465064</th>\n",
              "      <td>138414</td>\n",
              "      <td>2571</td>\n",
              "      <td>alternate reality</td>\n",
              "      <td>2013-01-23 21:47:09</td>\n",
              "    </tr>\n",
              "    <tr>\n",
              "      <th>465065</th>\n",
              "      <td>138414</td>\n",
              "      <td>2571</td>\n",
              "      <td>cyberpunk</td>\n",
              "      <td>2013-01-23 21:47:06</td>\n",
              "    </tr>\n",
              "    <tr>\n",
              "      <th>465066</th>\n",
              "      <td>138414</td>\n",
              "      <td>2571</td>\n",
              "      <td>post-apocalyptic</td>\n",
              "      <td>2013-01-23 21:47:03</td>\n",
              "    </tr>\n",
              "  </tbody>\n",
              "</table>\n",
              "<p>1430 rows × 4 columns</p>\n",
              "</div>"
            ],
            "text/plain": [
              "        userId  movieId                tag            timestamp\n",
              "385        342     2571   post-apocalyptic  2012-01-25 17:52:01\n",
              "386        342     2571             sci-fi  2012-01-25 17:51:58\n",
              "387        342     2571    virtual reality  2012-01-25 17:52:04\n",
              "1193       505     2571   post-apocalyptic  2011-03-09 07:17:37\n",
              "1194       505     2571    virtual reality  2011-03-09 07:17:33\n",
              "...        ...      ...                ...                  ...\n",
              "463932  138233     2571      philosophical  2011-11-23 03:53:55\n",
              "463933  138233     2571    virtual reality  2011-11-23 03:54:22\n",
              "465064  138414     2571  alternate reality  2013-01-23 21:47:09\n",
              "465065  138414     2571          cyberpunk  2013-01-23 21:47:06\n",
              "465066  138414     2571   post-apocalyptic  2013-01-23 21:47:03\n",
              "\n",
              "[1430 rows x 4 columns]"
            ]
          },
          "metadata": {},
          "execution_count": 10
        }
      ]
    },
    {
      "cell_type": "markdown",
      "metadata": {
        "id": "GzDQBMLbGCYP"
      },
      "source": [
        "df_tags is not usable at the moment with simple vectorization. So, we want to use genome scores instead. We only want relevance larger than 0.7\n",
        "\n",
        "Check the relevance score of tags for movieId 4226 **Movie Title - Memento**\n"
      ]
    },
    {
      "cell_type": "code",
      "metadata": {
        "colab": {
          "base_uri": "https://localhost:8080/",
          "height": 35
        },
        "id": "8JCSFrh5F5Qm",
        "outputId": "2ecff4a7-8923-43e2-e1de-103f6a12eee1"
      },
      "source": [
        "df_movies[df_movies['movieId'] == 4226]['title'].values[0]"
      ],
      "execution_count": 11,
      "outputs": [
        {
          "output_type": "execute_result",
          "data": {
            "application/vnd.google.colaboratory.intrinsic+json": {
              "type": "string"
            },
            "text/plain": [
              "'Memento (2000)'"
            ]
          },
          "metadata": {},
          "execution_count": 11
        }
      ]
    },
    {
      "cell_type": "code",
      "metadata": {
        "colab": {
          "base_uri": "https://localhost:8080/",
          "height": 424
        },
        "id": "GqvTZEKaGMSs",
        "outputId": "0ee6c7a9-e4e6-4adb-98f6-0fe45fd00036"
      },
      "source": [
        "matrix_movie_tags_genome = df_genome_scores[df_genome_scores['movieId'] == 4226]\n",
        "matrix_movie_tags_genome = matrix_movie_tags_genome[matrix_movie_tags_genome['relevance'] > 0.7]\n",
        "matrix_movie_tags_genome"
      ],
      "execution_count": 12,
      "outputs": [
        {
          "output_type": "execute_result",
          "data": {
            "text/html": [
              "<div>\n",
              "<style scoped>\n",
              "    .dataframe tbody tr th:only-of-type {\n",
              "        vertical-align: middle;\n",
              "    }\n",
              "\n",
              "    .dataframe tbody tr th {\n",
              "        vertical-align: top;\n",
              "    }\n",
              "\n",
              "    .dataframe thead th {\n",
              "        text-align: right;\n",
              "    }\n",
              "</style>\n",
              "<table border=\"1\" class=\"dataframe\">\n",
              "  <thead>\n",
              "    <tr style=\"text-align: right;\">\n",
              "      <th></th>\n",
              "      <th>movieId</th>\n",
              "      <th>tagId</th>\n",
              "      <th>relevance</th>\n",
              "    </tr>\n",
              "  </thead>\n",
              "  <tbody>\n",
              "    <tr>\n",
              "      <th>4215392</th>\n",
              "      <td>4226</td>\n",
              "      <td>57</td>\n",
              "      <td>0.96925</td>\n",
              "    </tr>\n",
              "    <tr>\n",
              "      <th>4215475</th>\n",
              "      <td>4226</td>\n",
              "      <td>140</td>\n",
              "      <td>0.71275</td>\n",
              "    </tr>\n",
              "    <tr>\n",
              "      <th>4215478</th>\n",
              "      <td>4226</td>\n",
              "      <td>143</td>\n",
              "      <td>0.71550</td>\n",
              "    </tr>\n",
              "    <tr>\n",
              "      <th>4215519</th>\n",
              "      <td>4226</td>\n",
              "      <td>184</td>\n",
              "      <td>0.79850</td>\n",
              "    </tr>\n",
              "    <tr>\n",
              "      <th>4215527</th>\n",
              "      <td>4226</td>\n",
              "      <td>192</td>\n",
              "      <td>0.98550</td>\n",
              "    </tr>\n",
              "    <tr>\n",
              "      <th>...</th>\n",
              "      <td>...</td>\n",
              "      <td>...</td>\n",
              "      <td>...</td>\n",
              "    </tr>\n",
              "    <tr>\n",
              "      <th>4216408</th>\n",
              "      <td>4226</td>\n",
              "      <td>1073</td>\n",
              "      <td>0.72200</td>\n",
              "    </tr>\n",
              "    <tr>\n",
              "      <th>4216419</th>\n",
              "      <td>4226</td>\n",
              "      <td>1084</td>\n",
              "      <td>0.77000</td>\n",
              "    </tr>\n",
              "    <tr>\n",
              "      <th>4216426</th>\n",
              "      <td>4226</td>\n",
              "      <td>1091</td>\n",
              "      <td>0.81400</td>\n",
              "    </tr>\n",
              "    <tr>\n",
              "      <th>4216427</th>\n",
              "      <td>4226</td>\n",
              "      <td>1092</td>\n",
              "      <td>0.72050</td>\n",
              "    </tr>\n",
              "    <tr>\n",
              "      <th>4216439</th>\n",
              "      <td>4226</td>\n",
              "      <td>1104</td>\n",
              "      <td>0.83125</td>\n",
              "    </tr>\n",
              "  </tbody>\n",
              "</table>\n",
              "<p>99 rows × 3 columns</p>\n",
              "</div>"
            ],
            "text/plain": [
              "         movieId  tagId  relevance\n",
              "4215392     4226     57    0.96925\n",
              "4215475     4226    140    0.71275\n",
              "4215478     4226    143    0.71550\n",
              "4215519     4226    184    0.79850\n",
              "4215527     4226    192    0.98550\n",
              "...          ...    ...        ...\n",
              "4216408     4226   1073    0.72200\n",
              "4216419     4226   1084    0.77000\n",
              "4216426     4226   1091    0.81400\n",
              "4216427     4226   1092    0.72050\n",
              "4216439     4226   1104    0.83125\n",
              "\n",
              "[99 rows x 3 columns]"
            ]
          },
          "metadata": {},
          "execution_count": 12
        }
      ]
    },
    {
      "cell_type": "code",
      "metadata": {
        "colab": {
          "base_uri": "https://localhost:8080/"
        },
        "id": "XcWAVwV_Gzem",
        "outputId": "591c3f79-9f99-4851-915a-a33ab44615f2"
      },
      "source": [
        "matrix_movie_tags_names = matrix_movie_tags_genome.merge(df_genome_tags, how=\"inner\", on='tagId')\n",
        "unique_matrix_tags = matrix_movie_tags_names['tag'].unique()\n",
        "unique_matrix_tags"
      ],
      "execution_count": 13,
      "outputs": [
        {
          "output_type": "execute_result",
          "data": {
            "text/plain": [
              "array(['amnesia', 'black and white', 'bleak', 'carrie-anne moss',\n",
              "       'cerebral', 'clever', 'complex', 'complicated', 'complicated plot',\n",
              "       'confusing', 'corruption', 'cult film', 'dark', 'dark humor',\n",
              "       'dramatic', 'enigmatic', 'excellent script', 'existentialism',\n",
              "       'flashbacks', 'genius', 'good', 'good acting', 'good soundtrack',\n",
              "       'great acting', 'great ending', 'great movie', 'identity',\n",
              "       'imagination', 'imdb top 250', 'insanity', 'intellectual',\n",
              "       'intelligent', 'intense', 'interesting', 'investigation',\n",
              "       'justice', 'manipulation', 'masterpiece', 'memory', 'memory loss',\n",
              "       'mentor', 'mindfuck', 'moral ambiguity', 'multiple storylines',\n",
              "       'murder', 'murder mystery', 'mystery', 'narrated', 'neo-noir',\n",
              "       'noir thriller', 'non-linear', 'nonlinear', 'obsession',\n",
              "       'original', 'original plot', 'oscar (best directing)',\n",
              "       'oscar (best editing)', 'oscar (best supporting actor)',\n",
              "       'paranoia', 'paranoid', 'philosophical', 'philosophy', 'plot',\n",
              "       'plot holes', 'plot twist', 'police investigation',\n",
              "       'powerful ending', 'psychological', 'psychology', 'reflective',\n",
              "       'revenge', 'secrets', 'short-term memory loss',\n",
              "       'social commentary', 'special', 'story', 'storytelling', 'stylish',\n",
              "       'stylized', 'suprisingly clever', 'surprise ending', 'suspense',\n",
              "       'talky', 'tense', 'thought-provoking', 'thriller', 'time',\n",
              "       'time loop', 'tricky', 'twist', 'twist ending', 'twists & turns',\n",
              "       'unique', 'vengeance', 'very interesting', 'violence',\n",
              "       'visually appealing', 'visually stunning', 'weird'], dtype=object)"
            ]
          },
          "metadata": {},
          "execution_count": 13
        }
      ]
    },
    {
      "cell_type": "code",
      "metadata": {
        "colab": {
          "base_uri": "https://localhost:8080/",
          "height": 206
        },
        "id": "_oU7Dqr7Nq_l",
        "outputId": "1712a592-0e1d-48df-8645-bb9c2d41cc83"
      },
      "source": [
        "matrix_movie_tags_names.head()"
      ],
      "execution_count": 14,
      "outputs": [
        {
          "output_type": "execute_result",
          "data": {
            "text/html": [
              "<div>\n",
              "<style scoped>\n",
              "    .dataframe tbody tr th:only-of-type {\n",
              "        vertical-align: middle;\n",
              "    }\n",
              "\n",
              "    .dataframe tbody tr th {\n",
              "        vertical-align: top;\n",
              "    }\n",
              "\n",
              "    .dataframe thead th {\n",
              "        text-align: right;\n",
              "    }\n",
              "</style>\n",
              "<table border=\"1\" class=\"dataframe\">\n",
              "  <thead>\n",
              "    <tr style=\"text-align: right;\">\n",
              "      <th></th>\n",
              "      <th>movieId</th>\n",
              "      <th>tagId</th>\n",
              "      <th>relevance</th>\n",
              "      <th>tag</th>\n",
              "    </tr>\n",
              "  </thead>\n",
              "  <tbody>\n",
              "    <tr>\n",
              "      <th>0</th>\n",
              "      <td>4226</td>\n",
              "      <td>57</td>\n",
              "      <td>0.96925</td>\n",
              "      <td>amnesia</td>\n",
              "    </tr>\n",
              "    <tr>\n",
              "      <th>1</th>\n",
              "      <td>4226</td>\n",
              "      <td>140</td>\n",
              "      <td>0.71275</td>\n",
              "      <td>black and white</td>\n",
              "    </tr>\n",
              "    <tr>\n",
              "      <th>2</th>\n",
              "      <td>4226</td>\n",
              "      <td>143</td>\n",
              "      <td>0.71550</td>\n",
              "      <td>bleak</td>\n",
              "    </tr>\n",
              "    <tr>\n",
              "      <th>3</th>\n",
              "      <td>4226</td>\n",
              "      <td>184</td>\n",
              "      <td>0.79850</td>\n",
              "      <td>carrie-anne moss</td>\n",
              "    </tr>\n",
              "    <tr>\n",
              "      <th>4</th>\n",
              "      <td>4226</td>\n",
              "      <td>192</td>\n",
              "      <td>0.98550</td>\n",
              "      <td>cerebral</td>\n",
              "    </tr>\n",
              "  </tbody>\n",
              "</table>\n",
              "</div>"
            ],
            "text/plain": [
              "   movieId  tagId  relevance               tag\n",
              "0     4226     57    0.96925           amnesia\n",
              "1     4226    140    0.71275   black and white\n",
              "2     4226    143    0.71550             bleak\n",
              "3     4226    184    0.79850  carrie-anne moss\n",
              "4     4226    192    0.98550          cerebral"
            ]
          },
          "metadata": {},
          "execution_count": 14
        }
      ]
    },
    {
      "cell_type": "code",
      "metadata": {
        "colab": {
          "base_uri": "https://localhost:8080/",
          "height": 81
        },
        "id": "CmlzzHDLNxKB",
        "outputId": "e4fe3838-d119-4471-dfcd-0752e5a75f9d"
      },
      "source": [
        "matrix_movie_tags_names.groupby(['movieId'])['tag'].apply('|'.join).reset_index()"
      ],
      "execution_count": 15,
      "outputs": [
        {
          "output_type": "execute_result",
          "data": {
            "text/html": [
              "<div>\n",
              "<style scoped>\n",
              "    .dataframe tbody tr th:only-of-type {\n",
              "        vertical-align: middle;\n",
              "    }\n",
              "\n",
              "    .dataframe tbody tr th {\n",
              "        vertical-align: top;\n",
              "    }\n",
              "\n",
              "    .dataframe thead th {\n",
              "        text-align: right;\n",
              "    }\n",
              "</style>\n",
              "<table border=\"1\" class=\"dataframe\">\n",
              "  <thead>\n",
              "    <tr style=\"text-align: right;\">\n",
              "      <th></th>\n",
              "      <th>movieId</th>\n",
              "      <th>tag</th>\n",
              "    </tr>\n",
              "  </thead>\n",
              "  <tbody>\n",
              "    <tr>\n",
              "      <th>0</th>\n",
              "      <td>4226</td>\n",
              "      <td>amnesia|black and white|bleak|carrie-anne moss...</td>\n",
              "    </tr>\n",
              "  </tbody>\n",
              "</table>\n",
              "</div>"
            ],
            "text/plain": [
              "   movieId                                                tag\n",
              "0     4226  amnesia|black and white|bleak|carrie-anne moss..."
            ]
          },
          "metadata": {},
          "execution_count": 15
        }
      ]
    },
    {
      "cell_type": "code",
      "metadata": {
        "colab": {
          "base_uri": "https://localhost:8080/"
        },
        "id": "p8akdmIlN7Jf",
        "outputId": "12db737d-3eae-4653-d021-06d51d4ab9cc"
      },
      "source": [
        "len(df_genome_scores['movieId'].unique())"
      ],
      "execution_count": 16,
      "outputs": [
        {
          "output_type": "execute_result",
          "data": {
            "text/plain": [
              "10381"
            ]
          },
          "metadata": {},
          "execution_count": 16
        }
      ]
    },
    {
      "cell_type": "markdown",
      "metadata": {
        "id": "ylKFLco-OBvY"
      },
      "source": [
        "# Preprocess tags data"
      ]
    },
    {
      "cell_type": "code",
      "metadata": {
        "colab": {
          "base_uri": "https://localhost:8080/",
          "height": 424
        },
        "id": "sJCIVGNKOEW0",
        "outputId": "d8c8b60f-5051-4c2d-8cc0-2c0b26a405dd"
      },
      "source": [
        "df_genome_scores_with_tagnames = df_genome_scores.merge(df_genome_tags, how=\"inner\", on=\"tagId\")\n",
        "df_genome_scores_with_tagnames = df_genome_scores_with_tagnames[df_genome_scores_with_tagnames['relevance'] > 0.7]\n",
        "df_genome_scores_with_tagnames"
      ],
      "execution_count": 17,
      "outputs": [
        {
          "output_type": "execute_result",
          "data": {
            "text/html": [
              "<div>\n",
              "<style scoped>\n",
              "    .dataframe tbody tr th:only-of-type {\n",
              "        vertical-align: middle;\n",
              "    }\n",
              "\n",
              "    .dataframe tbody tr th {\n",
              "        vertical-align: top;\n",
              "    }\n",
              "\n",
              "    .dataframe thead th {\n",
              "        text-align: right;\n",
              "    }\n",
              "</style>\n",
              "<table border=\"1\" class=\"dataframe\">\n",
              "  <thead>\n",
              "    <tr style=\"text-align: right;\">\n",
              "      <th></th>\n",
              "      <th>movieId</th>\n",
              "      <th>tagId</th>\n",
              "      <th>relevance</th>\n",
              "      <th>tag</th>\n",
              "    </tr>\n",
              "  </thead>\n",
              "  <tbody>\n",
              "    <tr>\n",
              "      <th>9</th>\n",
              "      <td>10</td>\n",
              "      <td>1</td>\n",
              "      <td>0.99975</td>\n",
              "      <td>007</td>\n",
              "    </tr>\n",
              "    <tr>\n",
              "      <th>1342</th>\n",
              "      <td>1517</td>\n",
              "      <td>1</td>\n",
              "      <td>0.75075</td>\n",
              "      <td>007</td>\n",
              "    </tr>\n",
              "    <tr>\n",
              "      <th>1507</th>\n",
              "      <td>1722</td>\n",
              "      <td>1</td>\n",
              "      <td>0.99975</td>\n",
              "      <td>007</td>\n",
              "    </tr>\n",
              "    <tr>\n",
              "      <th>2085</th>\n",
              "      <td>2376</td>\n",
              "      <td>1</td>\n",
              "      <td>0.99975</td>\n",
              "      <td>007</td>\n",
              "    </tr>\n",
              "    <tr>\n",
              "      <th>2615</th>\n",
              "      <td>2947</td>\n",
              "      <td>1</td>\n",
              "      <td>0.99975</td>\n",
              "      <td>007</td>\n",
              "    </tr>\n",
              "    <tr>\n",
              "      <th>...</th>\n",
              "      <td>...</td>\n",
              "      <td>...</td>\n",
              "      <td>...</td>\n",
              "      <td>...</td>\n",
              "    </tr>\n",
              "    <tr>\n",
              "      <th>11709439</th>\n",
              "      <td>109720</td>\n",
              "      <td>1128</td>\n",
              "      <td>0.88850</td>\n",
              "      <td>zombies</td>\n",
              "    </tr>\n",
              "    <tr>\n",
              "      <th>11709501</th>\n",
              "      <td>111663</td>\n",
              "      <td>1128</td>\n",
              "      <td>0.81825</td>\n",
              "      <td>zombies</td>\n",
              "    </tr>\n",
              "    <tr>\n",
              "      <th>11709544</th>\n",
              "      <td>113159</td>\n",
              "      <td>1128</td>\n",
              "      <td>0.82675</td>\n",
              "      <td>zombies</td>\n",
              "    </tr>\n",
              "    <tr>\n",
              "      <th>11709637</th>\n",
              "      <td>116668</td>\n",
              "      <td>1128</td>\n",
              "      <td>0.92850</td>\n",
              "      <td>zombies</td>\n",
              "    </tr>\n",
              "    <tr>\n",
              "      <th>11709741</th>\n",
              "      <td>128542</td>\n",
              "      <td>1128</td>\n",
              "      <td>0.97650</td>\n",
              "      <td>zombies</td>\n",
              "    </tr>\n",
              "  </tbody>\n",
              "</table>\n",
              "<p>183045 rows × 4 columns</p>\n",
              "</div>"
            ],
            "text/plain": [
              "          movieId  tagId  relevance      tag\n",
              "9              10      1    0.99975      007\n",
              "1342         1517      1    0.75075      007\n",
              "1507         1722      1    0.99975      007\n",
              "2085         2376      1    0.99975      007\n",
              "2615         2947      1    0.99975      007\n",
              "...           ...    ...        ...      ...\n",
              "11709439   109720   1128    0.88850  zombies\n",
              "11709501   111663   1128    0.81825  zombies\n",
              "11709544   113159   1128    0.82675  zombies\n",
              "11709637   116668   1128    0.92850  zombies\n",
              "11709741   128542   1128    0.97650  zombies\n",
              "\n",
              "[183045 rows x 4 columns]"
            ]
          },
          "metadata": {},
          "execution_count": 17
        }
      ]
    },
    {
      "cell_type": "code",
      "metadata": {
        "colab": {
          "base_uri": "https://localhost:8080/",
          "height": 424
        },
        "id": "V6x4s0naV4Nj",
        "outputId": "c6284ef1-959a-4751-d7ad-5f5954102b21"
      },
      "source": [
        "df_tagnames_compressed = df_genome_scores_with_tagnames.groupby(['movieId'])['tag'].apply('|'.join).reset_index()\n",
        "df_tagnames_compressed"
      ],
      "execution_count": 18,
      "outputs": [
        {
          "output_type": "execute_result",
          "data": {
            "text/html": [
              "<div>\n",
              "<style scoped>\n",
              "    .dataframe tbody tr th:only-of-type {\n",
              "        vertical-align: middle;\n",
              "    }\n",
              "\n",
              "    .dataframe tbody tr th {\n",
              "        vertical-align: top;\n",
              "    }\n",
              "\n",
              "    .dataframe thead th {\n",
              "        text-align: right;\n",
              "    }\n",
              "</style>\n",
              "<table border=\"1\" class=\"dataframe\">\n",
              "  <thead>\n",
              "    <tr style=\"text-align: right;\">\n",
              "      <th></th>\n",
              "      <th>movieId</th>\n",
              "      <th>tag</th>\n",
              "    </tr>\n",
              "  </thead>\n",
              "  <tbody>\n",
              "    <tr>\n",
              "      <th>0</th>\n",
              "      <td>1</td>\n",
              "      <td>adventure|animated|animation|cartoon|cgi|child...</td>\n",
              "    </tr>\n",
              "    <tr>\n",
              "      <th>1</th>\n",
              "      <td>2</td>\n",
              "      <td>adventure|animals|big budget|childhood|childre...</td>\n",
              "    </tr>\n",
              "    <tr>\n",
              "      <th>2</th>\n",
              "      <td>3</td>\n",
              "      <td>comedy|good sequel|original|sequel|sequels</td>\n",
              "    </tr>\n",
              "    <tr>\n",
              "      <th>3</th>\n",
              "      <td>4</td>\n",
              "      <td>chick flick|girlie movie|romantic|unlikely fri...</td>\n",
              "    </tr>\n",
              "    <tr>\n",
              "      <th>4</th>\n",
              "      <td>5</td>\n",
              "      <td>comedy|destiny|family|father daughter relation...</td>\n",
              "    </tr>\n",
              "    <tr>\n",
              "      <th>...</th>\n",
              "      <td>...</td>\n",
              "      <td>...</td>\n",
              "    </tr>\n",
              "    <tr>\n",
              "      <th>10337</th>\n",
              "      <td>130578</td>\n",
              "      <td>action|assassin|assassination|good action|real...</td>\n",
              "    </tr>\n",
              "    <tr>\n",
              "      <th>10338</th>\n",
              "      <td>130840</td>\n",
              "      <td>cinematography|creepy|horror|immortality|love ...</td>\n",
              "    </tr>\n",
              "    <tr>\n",
              "      <th>10339</th>\n",
              "      <td>131013</td>\n",
              "      <td>buddy movie|coen bros|comedy|crude humor|foul ...</td>\n",
              "    </tr>\n",
              "    <tr>\n",
              "      <th>10340</th>\n",
              "      <td>131168</td>\n",
              "      <td>betrayal|camp|cinematography|criterion|dramati...</td>\n",
              "    </tr>\n",
              "    <tr>\n",
              "      <th>10341</th>\n",
              "      <td>131170</td>\n",
              "      <td>alone in the world|alternate reality|alternate...</td>\n",
              "    </tr>\n",
              "  </tbody>\n",
              "</table>\n",
              "<p>10342 rows × 2 columns</p>\n",
              "</div>"
            ],
            "text/plain": [
              "       movieId                                                tag\n",
              "0            1  adventure|animated|animation|cartoon|cgi|child...\n",
              "1            2  adventure|animals|big budget|childhood|childre...\n",
              "2            3         comedy|good sequel|original|sequel|sequels\n",
              "3            4  chick flick|girlie movie|romantic|unlikely fri...\n",
              "4            5  comedy|destiny|family|father daughter relation...\n",
              "...        ...                                                ...\n",
              "10337   130578  action|assassin|assassination|good action|real...\n",
              "10338   130840  cinematography|creepy|horror|immortality|love ...\n",
              "10339   131013  buddy movie|coen bros|comedy|crude humor|foul ...\n",
              "10340   131168  betrayal|camp|cinematography|criterion|dramati...\n",
              "10341   131170  alone in the world|alternate reality|alternate...\n",
              "\n",
              "[10342 rows x 2 columns]"
            ]
          },
          "metadata": {},
          "execution_count": 18
        }
      ]
    },
    {
      "cell_type": "markdown",
      "metadata": {
        "id": "U91lRP0wV7pT"
      },
      "source": [
        "**Merge with movie dataframe**"
      ]
    },
    {
      "cell_type": "code",
      "metadata": {
        "colab": {
          "base_uri": "https://localhost:8080/",
          "height": 476
        },
        "id": "SA719JjsWAI7",
        "outputId": "40b0971b-93f5-41c5-f542-db4f3b118ec0"
      },
      "source": [
        "df_movies_with_tags = df_movies.merge(df_tagnames_compressed, how='left', on='movieId')\n",
        "df_movies_with_tags['tag'].fillna('movie', inplace=True)\n",
        "df_movies_with_tags"
      ],
      "execution_count": 19,
      "outputs": [
        {
          "output_type": "execute_result",
          "data": {
            "text/html": [
              "<div>\n",
              "<style scoped>\n",
              "    .dataframe tbody tr th:only-of-type {\n",
              "        vertical-align: middle;\n",
              "    }\n",
              "\n",
              "    .dataframe tbody tr th {\n",
              "        vertical-align: top;\n",
              "    }\n",
              "\n",
              "    .dataframe thead th {\n",
              "        text-align: right;\n",
              "    }\n",
              "</style>\n",
              "<table border=\"1\" class=\"dataframe\">\n",
              "  <thead>\n",
              "    <tr style=\"text-align: right;\">\n",
              "      <th></th>\n",
              "      <th>movieId</th>\n",
              "      <th>title</th>\n",
              "      <th>genres</th>\n",
              "      <th>tag</th>\n",
              "    </tr>\n",
              "  </thead>\n",
              "  <tbody>\n",
              "    <tr>\n",
              "      <th>0</th>\n",
              "      <td>1</td>\n",
              "      <td>Toy Story (1995)</td>\n",
              "      <td>Adventure|Animation|Children|Comedy|Fantasy</td>\n",
              "      <td>adventure|animated|animation|cartoon|cgi|child...</td>\n",
              "    </tr>\n",
              "    <tr>\n",
              "      <th>1</th>\n",
              "      <td>2</td>\n",
              "      <td>Jumanji (1995)</td>\n",
              "      <td>Adventure|Children|Fantasy</td>\n",
              "      <td>adventure|animals|big budget|childhood|childre...</td>\n",
              "    </tr>\n",
              "    <tr>\n",
              "      <th>2</th>\n",
              "      <td>3</td>\n",
              "      <td>Grumpier Old Men (1995)</td>\n",
              "      <td>Comedy|Romance</td>\n",
              "      <td>comedy|good sequel|original|sequel|sequels</td>\n",
              "    </tr>\n",
              "    <tr>\n",
              "      <th>3</th>\n",
              "      <td>4</td>\n",
              "      <td>Waiting to Exhale (1995)</td>\n",
              "      <td>Comedy|Drama|Romance</td>\n",
              "      <td>chick flick|girlie movie|romantic|unlikely fri...</td>\n",
              "    </tr>\n",
              "    <tr>\n",
              "      <th>4</th>\n",
              "      <td>5</td>\n",
              "      <td>Father of the Bride Part II (1995)</td>\n",
              "      <td>Comedy</td>\n",
              "      <td>comedy|destiny|family|father daughter relation...</td>\n",
              "    </tr>\n",
              "    <tr>\n",
              "      <th>...</th>\n",
              "      <td>...</td>\n",
              "      <td>...</td>\n",
              "      <td>...</td>\n",
              "      <td>...</td>\n",
              "    </tr>\n",
              "    <tr>\n",
              "      <th>27273</th>\n",
              "      <td>131254</td>\n",
              "      <td>Kein Bund für's Leben (2007)</td>\n",
              "      <td>Comedy</td>\n",
              "      <td>movie</td>\n",
              "    </tr>\n",
              "    <tr>\n",
              "      <th>27274</th>\n",
              "      <td>131256</td>\n",
              "      <td>Feuer, Eis &amp; Dosenbier (2002)</td>\n",
              "      <td>Comedy</td>\n",
              "      <td>movie</td>\n",
              "    </tr>\n",
              "    <tr>\n",
              "      <th>27275</th>\n",
              "      <td>131258</td>\n",
              "      <td>The Pirates (2014)</td>\n",
              "      <td>Adventure</td>\n",
              "      <td>movie</td>\n",
              "    </tr>\n",
              "    <tr>\n",
              "      <th>27276</th>\n",
              "      <td>131260</td>\n",
              "      <td>Rentun Ruusu (2001)</td>\n",
              "      <td>(no genres listed)</td>\n",
              "      <td>movie</td>\n",
              "    </tr>\n",
              "    <tr>\n",
              "      <th>27277</th>\n",
              "      <td>131262</td>\n",
              "      <td>Innocence (2014)</td>\n",
              "      <td>Adventure|Fantasy|Horror</td>\n",
              "      <td>movie</td>\n",
              "    </tr>\n",
              "  </tbody>\n",
              "</table>\n",
              "<p>27278 rows × 4 columns</p>\n",
              "</div>"
            ],
            "text/plain": [
              "       movieId  ...                                                tag\n",
              "0            1  ...  adventure|animated|animation|cartoon|cgi|child...\n",
              "1            2  ...  adventure|animals|big budget|childhood|childre...\n",
              "2            3  ...         comedy|good sequel|original|sequel|sequels\n",
              "3            4  ...  chick flick|girlie movie|romantic|unlikely fri...\n",
              "4            5  ...  comedy|destiny|family|father daughter relation...\n",
              "...        ...  ...                                                ...\n",
              "27273   131254  ...                                              movie\n",
              "27274   131256  ...                                              movie\n",
              "27275   131258  ...                                              movie\n",
              "27276   131260  ...                                              movie\n",
              "27277   131262  ...                                              movie\n",
              "\n",
              "[27278 rows x 4 columns]"
            ]
          },
          "metadata": {},
          "execution_count": 19
        }
      ]
    },
    {
      "cell_type": "markdown",
      "metadata": {
        "id": "9Qqize4UWOca"
      },
      "source": [
        "# TF-IDF\n",
        "\n",
        "The reason using TF-IDF is to understand how importance of the word in the tags by looking at how many times a word appears in a movie tag while paying attention to the same word appears in another movie tag"
      ]
    },
    {
      "cell_type": "code",
      "metadata": {
        "id": "Xy4tPiNHWMWo"
      },
      "source": [
        "vectorizer = TfidfVectorizer(analyzer='word',ngram_range=(1, 2),min_df=1)\n",
        "x = vectorizer.fit_transform(df_movies_with_tags['genres'] + df_movies_with_tags['tag'])"
      ],
      "execution_count": 20,
      "outputs": []
    },
    {
      "cell_type": "code",
      "metadata": {
        "colab": {
          "base_uri": "https://localhost:8080/",
          "height": 520
        },
        "id": "yhiDjSJIWaTB",
        "outputId": "d8fbcced-c36f-4851-bd4c-cd24186c5edf"
      },
      "source": [
        "# Checkout TF-IDF scores of tags\n",
        "df = pd.DataFrame(x[0].T.todense(), index=vectorizer.get_feature_names(), columns=[\"TF-IDF\"])\n",
        "df = df.sort_values('TF-IDF', ascending=False)\n",
        "df.head(15)"
      ],
      "execution_count": 21,
      "outputs": [
        {
          "output_type": "execute_result",
          "data": {
            "text/html": [
              "<div>\n",
              "<style scoped>\n",
              "    .dataframe tbody tr th:only-of-type {\n",
              "        vertical-align: middle;\n",
              "    }\n",
              "\n",
              "    .dataframe tbody tr th {\n",
              "        vertical-align: top;\n",
              "    }\n",
              "\n",
              "    .dataframe thead th {\n",
              "        text-align: right;\n",
              "    }\n",
              "</style>\n",
              "<table border=\"1\" class=\"dataframe\">\n",
              "  <thead>\n",
              "    <tr style=\"text-align: right;\">\n",
              "      <th></th>\n",
              "      <th>TF-IDF</th>\n",
              "    </tr>\n",
              "  </thead>\n",
              "  <tbody>\n",
              "    <tr>\n",
              "      <th>animation</th>\n",
              "      <td>0.221279</td>\n",
              "    </tr>\n",
              "    <tr>\n",
              "      <th>animated</th>\n",
              "      <td>0.216360</td>\n",
              "    </tr>\n",
              "    <tr>\n",
              "      <th>pixar</th>\n",
              "      <td>0.191012</td>\n",
              "    </tr>\n",
              "    <tr>\n",
              "      <th>animated feature</th>\n",
              "      <td>0.166882</td>\n",
              "    </tr>\n",
              "    <tr>\n",
              "      <th>feature</th>\n",
              "      <td>0.166882</td>\n",
              "    </tr>\n",
              "    <tr>\n",
              "      <th>good</th>\n",
              "      <td>0.163223</td>\n",
              "    </tr>\n",
              "    <tr>\n",
              "      <th>disney</th>\n",
              "      <td>0.154697</td>\n",
              "    </tr>\n",
              "    <tr>\n",
              "      <th>technology toys</th>\n",
              "      <td>0.134399</td>\n",
              "    </tr>\n",
              "    <tr>\n",
              "      <th>good whimsical</th>\n",
              "      <td>0.134399</td>\n",
              "    </tr>\n",
              "    <tr>\n",
              "      <th>kids</th>\n",
              "      <td>0.131522</td>\n",
              "    </tr>\n",
              "    <tr>\n",
              "      <th>light nostalgic</th>\n",
              "      <td>0.129219</td>\n",
              "    </tr>\n",
              "    <tr>\n",
              "      <th>winner pixar</th>\n",
              "      <td>0.125544</td>\n",
              "    </tr>\n",
              "    <tr>\n",
              "      <th>feature entertaining</th>\n",
              "      <td>0.125544</td>\n",
              "    </tr>\n",
              "    <tr>\n",
              "      <th>fantasyadventure animated</th>\n",
              "      <td>0.122694</td>\n",
              "    </tr>\n",
              "    <tr>\n",
              "      <th>toys unlikely</th>\n",
              "      <td>0.120365</td>\n",
              "    </tr>\n",
              "  </tbody>\n",
              "</table>\n",
              "</div>"
            ],
            "text/plain": [
              "                             TF-IDF\n",
              "animation                  0.221279\n",
              "animated                   0.216360\n",
              "pixar                      0.191012\n",
              "animated feature           0.166882\n",
              "feature                    0.166882\n",
              "good                       0.163223\n",
              "disney                     0.154697\n",
              "technology toys            0.134399\n",
              "good whimsical             0.134399\n",
              "kids                       0.131522\n",
              "light nostalgic            0.129219\n",
              "winner pixar               0.125544\n",
              "feature entertaining       0.125544\n",
              "fantasyadventure animated  0.122694\n",
              "toys unlikely              0.120365"
            ]
          },
          "metadata": {},
          "execution_count": 21
        }
      ]
    },
    {
      "cell_type": "markdown",
      "metadata": {
        "id": "sZU4HKL9WuRz"
      },
      "source": [
        "Measure of similarity between vectors using sigmoid kernel"
      ]
    },
    {
      "cell_type": "code",
      "metadata": {
        "colab": {
          "base_uri": "https://localhost:8080/"
        },
        "id": "b8Ayq401WtBs",
        "outputId": "fd841799-275f-48de-a23a-7a1781ea496e"
      },
      "source": [
        "tag_genre_model = sigmoid_kernel(x, x)\n",
        "tag_genre_model"
      ],
      "execution_count": 22,
      "outputs": [
        {
          "output_type": "execute_result",
          "data": {
            "text/plain": [
              "array([[0.76160495, 0.76159605, 0.7615945 , ..., 0.76159416, 0.76159436,\n",
              "        0.7615943 ],\n",
              "       [0.76159605, 0.76160495, 0.76159431, ..., 0.76159416, 0.76159432,\n",
              "        0.76159471],\n",
              "       [0.7615945 , 0.76159431, 0.76160495, ..., 0.76159416, 0.76159416,\n",
              "        0.76159416],\n",
              "       ...,\n",
              "       [0.76159416, 0.76159416, 0.76159416, ..., 0.76160495, 0.76159416,\n",
              "        0.76159416],\n",
              "       [0.76159436, 0.76159432, 0.76159416, ..., 0.76159416, 0.76160495,\n",
              "        0.76159416],\n",
              "       [0.7615943 , 0.76159471, 0.76159416, ..., 0.76159416, 0.76159416,\n",
              "        0.76160495]])"
            ]
          },
          "metadata": {},
          "execution_count": 22
        }
      ]
    },
    {
      "cell_type": "code",
      "metadata": {
        "id": "ZgESz7azW7Cp"
      },
      "source": [
        "# Create dictionary for movieId and Index and vice versa\n",
        "movieId_dict = dict(zip(df_movies_with_tags.movieId, df_movies_with_tags.index))\n",
        "id_movieId_dict = dict(zip(df_movies_with_tags.index, df_movies_with_tags.movieId))\n",
        "\n",
        "def get_similar_movies(movieId, n):\n",
        "    '''\n",
        "    Find similar movies according to movieId and returns similar movieIds and scores\n",
        "\n",
        "    params:\n",
        "    @movieId: movieId to calculate similarity scores\n",
        "    @n: number of similar movies\n",
        "\n",
        "    returns:\n",
        "    @list(movieId, index): list of movieId and its corresponding scores\n",
        "    '''\n",
        "    scores = []\n",
        "    scores = list(enumerate(tag_genre_model[movieId_dict[movieId]]))\n",
        "    scores.sort(key=lambda x: x[1], reverse=True)\n",
        "\n",
        "    return list(map(lambda x: (id_movieId_dict[x[0]], x[1]), scores[1: n + 1]))"
      ],
      "execution_count": 23,
      "outputs": []
    },
    {
      "cell_type": "code",
      "metadata": {
        "id": "P86ihzMRXfpB"
      },
      "source": [
        "# Create dictionary for movieId and title\n",
        "movie_dict = dict(zip(df_movies.movieId, df_movies.title))\n",
        "\n",
        "def get_movie_titles(movieIds):\n",
        "    '''\n",
        "    Get movie titles according to movieIds and return titles\n",
        "\n",
        "    params:\n",
        "    @movieIds: movieId lists\n",
        "\n",
        "    returns:\n",
        "    @movie_titles: list of movie titles according to the movieIds\n",
        "    '''\n",
        "    movie_titles = []\n",
        "    for movieId in movieIds:\n",
        "        if movieId in movie_dict:\n",
        "            movie_titles.append(movie_dict[movieId])\n",
        "\n",
        "    return movie_titles"
      ],
      "execution_count": 25,
      "outputs": []
    },
    {
      "cell_type": "markdown",
      "metadata": {
        "id": "3arcD7-LYGrj"
      },
      "source": [
        "**Find 10 similar movie of movieIds - 5349 which is Spider-Man (2002)**"
      ]
    },
    {
      "cell_type": "code",
      "metadata": {
        "colab": {
          "base_uri": "https://localhost:8080/"
        },
        "id": "LSzBwWxQYCCu",
        "outputId": "cacc36f9-68b6-4f16-c2df-58627fb29bb9"
      },
      "source": [
        "movie_ids, similarity = list(zip(*get_similar_movies(5349, 10)))\n",
        "get_movie_titles(movie_ids)"
      ],
      "execution_count": 26,
      "outputs": [
        {
          "output_type": "execute_result",
          "data": {
            "text/plain": [
              "['Spider-Man 2 (2004)',\n",
              " 'X-Men (2000)',\n",
              " 'X2: X-Men United (2003)',\n",
              " 'Incredible Hulk, The (2008)',\n",
              " 'Thor (2011)',\n",
              " 'X-Men: First Class (2011)',\n",
              " 'Hulk (2003)',\n",
              " 'X-Men Origins: Wolverine (2009)',\n",
              " 'Amazing Spider-Man, The (2012)',\n",
              " 'Iron Man (2008)']"
            ]
          },
          "metadata": {},
          "execution_count": 26
        }
      ]
    },
    {
      "cell_type": "code",
      "metadata": {
        "id": "QfDwoWvlfLaw"
      },
      "source": [
        "def get_movies(userid):\n",
        "    '''\n",
        "    params:\n",
        "    @userid: (int) a user id\n",
        "    \n",
        "    returns:\n",
        "    movie_ids: set of movie_ids that the user has already watched\n",
        "    \n",
        "    '''\n",
        "    movie_titles = []\n",
        "\n",
        "    movie_ids = set(df_ratings[df_ratings['userId'] == userid].sort_values('rating', ascending = False)['movieId'].tolist())\n",
        "\n",
        "    return movie_ids "
      ],
      "execution_count": 28,
      "outputs": []
    },
    {
      "cell_type": "code",
      "metadata": {
        "id": "fI2bLt2jfUsI"
      },
      "source": [
        "def recommendation(userid, m=10):\n",
        "    '''\n",
        "    params:\n",
        "    userid: (int) a user id\n",
        "    m: (int) the number of recommendations for user\n",
        "\n",
        "    returns:\n",
        "    recommended_movie_titles: list of recommended movie titles\n",
        "    '''\n",
        "\n",
        "    similar_movies = []\n",
        "\n",
        "    watched_movie_ids = get_movies(userid)\n",
        "\n",
        "    for movie in watched_movie_ids:\n",
        "        movies = get_similar_movies(movie, 5)\n",
        "        similar_movies.extend(movies)\n",
        "\n",
        "    similar_movies = sorted(similar_movies, key = lambda x : x[1], reverse = True)\n",
        "    similar_movie_ids, similarity_scores = list(zip(*similar_movies))\n",
        "    similar_movie_ids = [movie for movie in similar_movie_ids if movie not in watched_movie_ids]\n",
        "    similar_movie_ids = set(similar_movie_ids)\n",
        "\n",
        "    return get_movie_titles(list(similar_movie_ids)[:m])"
      ],
      "execution_count": 29,
      "outputs": []
    },
    {
      "cell_type": "markdown",
      "metadata": {
        "id": "JzS8kwQLf08l"
      },
      "source": [
        "**Movies list user 138446 has already watched (10 first movies)**"
      ]
    },
    {
      "cell_type": "code",
      "metadata": {
        "colab": {
          "base_uri": "https://localhost:8080/"
        },
        "id": "-i5f7pPWf6sv",
        "outputId": "17d07313-d56d-46cd-83c7-f867f2b69d5c"
      },
      "source": [
        "sample_movies_138446 = get_movies(138446)\n",
        "get_movie_titles(list(sample_movies_138446)[:10])"
      ],
      "execution_count": 31,
      "outputs": [
        {
          "output_type": "execute_result",
          "data": {
            "text/plain": [
              "['Toy Story (1995)',\n",
              " 'Dumbo (1941)',\n",
              " 'Sound of Music, The (1965)',\n",
              " '10 Things I Hate About You (1999)',\n",
              " 'March of the Wooden Soldiers (a.k.a. Babes in Toyland) (1934)',\n",
              " 'Sense and Sensibility (1995)',\n",
              " 'Secret Garden, The (1993)',\n",
              " 'Shop Around the Corner, The (1940)',\n",
              " 'Persuasion (1995)',\n",
              " 'Jungle Book, The (1967)']"
            ]
          },
          "metadata": {},
          "execution_count": 31
        }
      ]
    },
    {
      "cell_type": "markdown",
      "metadata": {
        "id": "Bhc3AEhMgRUA"
      },
      "source": [
        "**Recommended movies list for user 138446 (10 movies)**"
      ]
    },
    {
      "cell_type": "code",
      "metadata": {
        "colab": {
          "base_uri": "https://localhost:8080/"
        },
        "id": "xA6bdPqXgcht",
        "outputId": "7484e4c9-1e99-463c-de65-68e17740a5eb"
      },
      "source": [
        "recommendation(138446)"
      ],
      "execution_count": 32,
      "outputs": [
        {
          "output_type": "execute_result",
          "data": {
            "text/plain": [
              "['Fighter, The (2010)',\n",
              " 'Balto (1995)',\n",
              " 'Flowers in the Attic (1987)',\n",
              " 'Cutthroat Island (1995)',\n",
              " 'Day of the Jackal, The (1973)',\n",
              " 'Money Train (1995)',\n",
              " 'Copycat (1995)',\n",
              " 'Pan (1995)',\n",
              " 'Othello (1995)',\n",
              " 'Lady and the Tramp (1955)']"
            ]
          },
          "metadata": {},
          "execution_count": 32
        }
      ]
    },
    {
      "cell_type": "markdown",
      "metadata": {
        "id": "ozRNEwwngmnA"
      },
      "source": [
        "# Evaluation"
      ]
    },
    {
      "cell_type": "code",
      "metadata": {
        "id": "QIsej1Y0gn42"
      },
      "source": [
        "df_user_1876 = df_ratings[df_ratings['userId'] == 1876]\n",
        "liked_movies = df_user_1876[df_user_1876['rating'] >= 3.5].merge(df_movies, how='left', on='movieId')\n",
        "disliked_movies = df_user_1876[df_user_1876['rating'] < 3.5].merge(df_movies, how='left', on='movieId')"
      ],
      "execution_count": 35,
      "outputs": []
    },
    {
      "cell_type": "markdown",
      "metadata": {
        "id": "z3Mu1vq-guQo"
      },
      "source": [
        "## Calculate Precision, Recall and F\n",
        "\n",
        "\n",
        "1.   Positive = Liked Movies ( >=3.5 points)\n",
        "2.   Negative = Disliked Movies (< 3.5 points)\n",
        "\n",
        "\n",
        "\n",
        "\n",
        "Since we can only predict 'recommended movies'\n",
        "\n",
        "- True Positive =  liked movies in recommended movies\n",
        "\n",
        "- False Positive = Disliked movies in Recommended movies\n",
        "\n",
        "- False Negative = liked movies not in recommend movies\n",
        "\n",
        "- True Negative = disliked movies not in recommend movies"
      ]
    },
    {
      "cell_type": "code",
      "metadata": {
        "id": "wbzOiNvBhJC8"
      },
      "source": [
        "liked_movie_ids = liked_movies['movieId'].tolist()\n",
        "disliked_movie_ids = disliked_movies['movieId'].tolist()\n",
        "\n",
        "def evaluate(first_n_of_liked_movies, top_n_similar):\n",
        "    first_n_likes = liked_movies[:first_n_of_liked_movies]['movieId'].tolist()\n",
        "    \n",
        "    recommended_movies = []\n",
        "    for id in first_n_likes:\n",
        "        recommended_movies.extend(get_similar_movies(id, top_n_similar))\n",
        "    \n",
        "    recommended_movie_ids, _ = list(zip(*recommended_movies))\n",
        "    recommended_movie_ids = list(set(recommended_movie_ids))\n",
        "    print('Number of recommended movies: ', len(recommended_movie_ids))\n",
        "\n",
        "    true_positive = len([movieId for movieId in liked_movie_ids if movieId in recommended_movie_ids])\n",
        "    false_positive = len([movieId for movieId in disliked_movie_ids if movieId in recommended_movie_ids])\n",
        "    false_negative = len([movieId for movieId in liked_movie_ids if movieId not in recommended_movie_ids])\n",
        "    true_negative = len([movieId for movieId in disliked_movie_ids if movieId not in recommended_movie_ids])\n",
        "\n",
        "    precision = true_positive / (true_positive + false_positive)\n",
        "    recall = true_positive / (true_positive + false_negative)\n",
        "    f1_score = (2 * precision * recall) / (precision + recall)\n",
        "\n",
        "    return {'Precision: ': precision,\n",
        "            'Recall: ': recall, \n",
        "            'F1-score: ': f1_score}"
      ],
      "execution_count": 41,
      "outputs": []
    },
    {
      "cell_type": "code",
      "metadata": {
        "colab": {
          "base_uri": "https://localhost:8080/"
        },
        "id": "TS8kBwOMhWCp",
        "outputId": "294fffc0-1639-4d8a-a87e-af2e810fffa7"
      },
      "source": [
        "# User 1876\n",
        "evaluate(80, 10)"
      ],
      "execution_count": 42,
      "outputs": [
        {
          "output_type": "stream",
          "name": "stdout",
          "text": [
            "Number of recommended movies:  466\n"
          ]
        },
        {
          "output_type": "execute_result",
          "data": {
            "text/plain": [
              "{'F1-score: ': 0.5510835913312693,\n",
              " 'Precision: ': 0.717741935483871,\n",
              " 'Recall: ': 0.4472361809045226}"
            ]
          },
          "metadata": {},
          "execution_count": 42
        }
      ]
    }
  ]
}