{
  "nbformat": 4,
  "nbformat_minor": 0,
  "metadata": {
    "colab": {
      "name": "data-explore.ipynb",
      "provenance": []
    },
    "kernelspec": {
      "name": "python3",
      "display_name": "Python 3"
    },
    "language_info": {
      "name": "python"
    }
  },
  "cells": [
    {
      "cell_type": "markdown",
      "metadata": {
        "id": "-Ntwz0K2A4od"
      },
      "source": [
        "<p align=\"center\">\n",
        "    <a href=\"https://colab.research.google.com/drive/1A4kHKq9jrUPrCYXqoOj5iDQVcnRJK9sR?usp=sharing\">\n",
        "    <img src=\"https://colab.research.google.com/assets/colab-badge.svg\" alt=\"Open In Colab\"/>\n",
        "    </a>\n",
        "</p>"
      ]
    },
    {
      "cell_type": "code",
      "metadata": {
        "colab": {
          "base_uri": "https://localhost:8080/"
        },
        "id": "PohqV_smA3m5",
        "outputId": "b037a9a6-9467-4ccc-b3af-b2f074d8d1e0"
      },
      "source": [
        "!gdown https://drive.google.com/uc?id=1GmqNwmZ0FpCGXMfQfsqEU3RqD1lGMuE2 # tags\n",
        "!gdown https://drive.google.com/uc?id=1oCZZDzovsfBa1l97li1hCJ4aDyE9HmvY # ratings\n",
        "!gdown https://drive.google.com/uc?id=1HICUSCWLSbU_sug2r5fZZYJsPI1wA5e6 # movies\n",
        "!gdown https://drive.google.com/uc?id=1fSGJaSAgBqEc7fm1O4L4fps6N3OZxR3Z # links\n",
        "!gdown https://drive.google.com/uc?id=11Mxekus6vaBFz5f_-RVMKy_40vKqLPs5 # genome tags\n",
        "!gdown https://drive.google.com/uc?id=14M40G24e0WXln4fGP8phKeIihRCA_AUd # genome scores"
      ],
      "execution_count": 1,
      "outputs": [
        {
          "output_type": "stream",
          "name": "stdout",
          "text": [
            "Downloading...\n",
            "From: https://drive.google.com/uc?id=1GmqNwmZ0FpCGXMfQfsqEU3RqD1lGMuE2\n",
            "To: /content/tag.csv\n",
            "21.7MB [00:00, 52.0MB/s]\n",
            "Downloading...\n",
            "From: https://drive.google.com/uc?id=1oCZZDzovsfBa1l97li1hCJ4aDyE9HmvY\n",
            "To: /content/rating.csv\n",
            "690MB [00:05, 116MB/s]\n",
            "Downloading...\n",
            "From: https://drive.google.com/uc?id=1HICUSCWLSbU_sug2r5fZZYJsPI1wA5e6\n",
            "To: /content/movie.csv\n",
            "100% 1.49M/1.49M [00:00<00:00, 91.3MB/s]\n",
            "Downloading...\n",
            "From: https://drive.google.com/uc?id=1fSGJaSAgBqEc7fm1O4L4fps6N3OZxR3Z\n",
            "To: /content/link.csv\n",
            "100% 539k/539k [00:00<00:00, 71.1MB/s]\n",
            "Downloading...\n",
            "From: https://drive.google.com/uc?id=11Mxekus6vaBFz5f_-RVMKy_40vKqLPs5\n",
            "To: /content/genome_tags.csv\n",
            "100% 20.4k/20.4k [00:00<00:00, 28.8MB/s]\n",
            "Downloading...\n",
            "From: https://drive.google.com/uc?id=14M40G24e0WXln4fGP8phKeIihRCA_AUd\n",
            "To: /content/genome_scores.csv\n",
            "214MB [00:01, 146MB/s]\n"
          ]
        }
      ]
    },
    {
      "cell_type": "code",
      "metadata": {
        "id": "gs6RCAgxBw1l"
      },
      "source": [
        "import pandas as pd\n",
        "import numpy as np\n",
        "import matplotlib.pyplot as plt\n",
        "import pickle\n",
        "import seaborn as sns\n",
        "import nltk\n",
        "\n",
        "from collections import Counter\n",
        "\n",
        "%matplotlib inline\n",
        "\n",
        "df_movies = pd.read_csv('./movie.csv')\n",
        "df_ratings = pd.read_csv('./rating.csv')\n",
        "df_tags = pd.read_csv('./tag.csv')\n",
        "df_links = pd.read_csv('./link.csv')\n",
        "df_genome_scores = pd.read_csv('./genome_scores.csv')\n",
        "df_genome_tags = pd.read_csv('./genome_tags.csv')"
      ],
      "execution_count": 2,
      "outputs": []
    },
    {
      "cell_type": "code",
      "metadata": {
        "colab": {
          "base_uri": "https://localhost:8080/"
        },
        "id": "xTHCgqQqCRfF",
        "outputId": "04c2a911-4303-47f7-abda-453397dc31ec"
      },
      "source": [
        "# Shapes of the dataset\n",
        "print('df_movies: ', df_movies.shape)\n",
        "print('df_ratings: ', df_ratings.shape)\n",
        "print('df_tags: ', df_tags.shape)\n",
        "print('df_links: ', df_links.shape)\n",
        "print('df_genome_scores: ', df_genome_scores.shape)\n",
        "print('df_genome_tags: ', df_genome_tags.shape)"
      ],
      "execution_count": 3,
      "outputs": [
        {
          "output_type": "stream",
          "name": "stdout",
          "text": [
            "df_movies:  (27278, 3)\n",
            "df_ratings:  (20000263, 4)\n",
            "df_tags:  (465564, 4)\n",
            "df_links:  (27278, 3)\n",
            "df_genome_scores:  (11709768, 3)\n",
            "df_genome_tags:  (1128, 2)\n"
          ]
        }
      ]
    },
    {
      "cell_type": "code",
      "metadata": {
        "colab": {
          "base_uri": "https://localhost:8080/",
          "height": 206
        },
        "id": "eQAxQMEkCc1Q",
        "outputId": "8d33f23d-12cc-4565-801b-15d37712120b"
      },
      "source": [
        "df_movies.head()"
      ],
      "execution_count": 4,
      "outputs": [
        {
          "output_type": "execute_result",
          "data": {
            "text/html": [
              "<div>\n",
              "<style scoped>\n",
              "    .dataframe tbody tr th:only-of-type {\n",
              "        vertical-align: middle;\n",
              "    }\n",
              "\n",
              "    .dataframe tbody tr th {\n",
              "        vertical-align: top;\n",
              "    }\n",
              "\n",
              "    .dataframe thead th {\n",
              "        text-align: right;\n",
              "    }\n",
              "</style>\n",
              "<table border=\"1\" class=\"dataframe\">\n",
              "  <thead>\n",
              "    <tr style=\"text-align: right;\">\n",
              "      <th></th>\n",
              "      <th>movieId</th>\n",
              "      <th>title</th>\n",
              "      <th>genres</th>\n",
              "    </tr>\n",
              "  </thead>\n",
              "  <tbody>\n",
              "    <tr>\n",
              "      <th>0</th>\n",
              "      <td>1</td>\n",
              "      <td>Toy Story (1995)</td>\n",
              "      <td>Adventure|Animation|Children|Comedy|Fantasy</td>\n",
              "    </tr>\n",
              "    <tr>\n",
              "      <th>1</th>\n",
              "      <td>2</td>\n",
              "      <td>Jumanji (1995)</td>\n",
              "      <td>Adventure|Children|Fantasy</td>\n",
              "    </tr>\n",
              "    <tr>\n",
              "      <th>2</th>\n",
              "      <td>3</td>\n",
              "      <td>Grumpier Old Men (1995)</td>\n",
              "      <td>Comedy|Romance</td>\n",
              "    </tr>\n",
              "    <tr>\n",
              "      <th>3</th>\n",
              "      <td>4</td>\n",
              "      <td>Waiting to Exhale (1995)</td>\n",
              "      <td>Comedy|Drama|Romance</td>\n",
              "    </tr>\n",
              "    <tr>\n",
              "      <th>4</th>\n",
              "      <td>5</td>\n",
              "      <td>Father of the Bride Part II (1995)</td>\n",
              "      <td>Comedy</td>\n",
              "    </tr>\n",
              "  </tbody>\n",
              "</table>\n",
              "</div>"
            ],
            "text/plain": [
              "   movieId  ...                                       genres\n",
              "0        1  ...  Adventure|Animation|Children|Comedy|Fantasy\n",
              "1        2  ...                   Adventure|Children|Fantasy\n",
              "2        3  ...                               Comedy|Romance\n",
              "3        4  ...                         Comedy|Drama|Romance\n",
              "4        5  ...                                       Comedy\n",
              "\n",
              "[5 rows x 3 columns]"
            ]
          },
          "metadata": {},
          "execution_count": 4
        }
      ]
    },
    {
      "cell_type": "code",
      "metadata": {
        "colab": {
          "base_uri": "https://localhost:8080/",
          "height": 206
        },
        "id": "RsaDrl1TCgC_",
        "outputId": "55d358c1-8ad4-47ab-c3a3-2a831d97c86c"
      },
      "source": [
        "df_ratings.head()"
      ],
      "execution_count": 5,
      "outputs": [
        {
          "output_type": "execute_result",
          "data": {
            "text/html": [
              "<div>\n",
              "<style scoped>\n",
              "    .dataframe tbody tr th:only-of-type {\n",
              "        vertical-align: middle;\n",
              "    }\n",
              "\n",
              "    .dataframe tbody tr th {\n",
              "        vertical-align: top;\n",
              "    }\n",
              "\n",
              "    .dataframe thead th {\n",
              "        text-align: right;\n",
              "    }\n",
              "</style>\n",
              "<table border=\"1\" class=\"dataframe\">\n",
              "  <thead>\n",
              "    <tr style=\"text-align: right;\">\n",
              "      <th></th>\n",
              "      <th>userId</th>\n",
              "      <th>movieId</th>\n",
              "      <th>rating</th>\n",
              "      <th>timestamp</th>\n",
              "    </tr>\n",
              "  </thead>\n",
              "  <tbody>\n",
              "    <tr>\n",
              "      <th>0</th>\n",
              "      <td>1</td>\n",
              "      <td>2</td>\n",
              "      <td>3.5</td>\n",
              "      <td>2005-04-02 23:53:47</td>\n",
              "    </tr>\n",
              "    <tr>\n",
              "      <th>1</th>\n",
              "      <td>1</td>\n",
              "      <td>29</td>\n",
              "      <td>3.5</td>\n",
              "      <td>2005-04-02 23:31:16</td>\n",
              "    </tr>\n",
              "    <tr>\n",
              "      <th>2</th>\n",
              "      <td>1</td>\n",
              "      <td>32</td>\n",
              "      <td>3.5</td>\n",
              "      <td>2005-04-02 23:33:39</td>\n",
              "    </tr>\n",
              "    <tr>\n",
              "      <th>3</th>\n",
              "      <td>1</td>\n",
              "      <td>47</td>\n",
              "      <td>3.5</td>\n",
              "      <td>2005-04-02 23:32:07</td>\n",
              "    </tr>\n",
              "    <tr>\n",
              "      <th>4</th>\n",
              "      <td>1</td>\n",
              "      <td>50</td>\n",
              "      <td>3.5</td>\n",
              "      <td>2005-04-02 23:29:40</td>\n",
              "    </tr>\n",
              "  </tbody>\n",
              "</table>\n",
              "</div>"
            ],
            "text/plain": [
              "   userId  movieId  rating            timestamp\n",
              "0       1        2     3.5  2005-04-02 23:53:47\n",
              "1       1       29     3.5  2005-04-02 23:31:16\n",
              "2       1       32     3.5  2005-04-02 23:33:39\n",
              "3       1       47     3.5  2005-04-02 23:32:07\n",
              "4       1       50     3.5  2005-04-02 23:29:40"
            ]
          },
          "metadata": {},
          "execution_count": 5
        }
      ]
    },
    {
      "cell_type": "code",
      "metadata": {
        "colab": {
          "base_uri": "https://localhost:8080/",
          "height": 206
        },
        "id": "DRadd92DCmn9",
        "outputId": "79de35cb-1afe-44a6-b7d5-025ee917d617"
      },
      "source": [
        "df_tags.head()"
      ],
      "execution_count": 6,
      "outputs": [
        {
          "output_type": "execute_result",
          "data": {
            "text/html": [
              "<div>\n",
              "<style scoped>\n",
              "    .dataframe tbody tr th:only-of-type {\n",
              "        vertical-align: middle;\n",
              "    }\n",
              "\n",
              "    .dataframe tbody tr th {\n",
              "        vertical-align: top;\n",
              "    }\n",
              "\n",
              "    .dataframe thead th {\n",
              "        text-align: right;\n",
              "    }\n",
              "</style>\n",
              "<table border=\"1\" class=\"dataframe\">\n",
              "  <thead>\n",
              "    <tr style=\"text-align: right;\">\n",
              "      <th></th>\n",
              "      <th>userId</th>\n",
              "      <th>movieId</th>\n",
              "      <th>tag</th>\n",
              "      <th>timestamp</th>\n",
              "    </tr>\n",
              "  </thead>\n",
              "  <tbody>\n",
              "    <tr>\n",
              "      <th>0</th>\n",
              "      <td>18</td>\n",
              "      <td>4141</td>\n",
              "      <td>Mark Waters</td>\n",
              "      <td>2009-04-24 18:19:40</td>\n",
              "    </tr>\n",
              "    <tr>\n",
              "      <th>1</th>\n",
              "      <td>65</td>\n",
              "      <td>208</td>\n",
              "      <td>dark hero</td>\n",
              "      <td>2013-05-10 01:41:18</td>\n",
              "    </tr>\n",
              "    <tr>\n",
              "      <th>2</th>\n",
              "      <td>65</td>\n",
              "      <td>353</td>\n",
              "      <td>dark hero</td>\n",
              "      <td>2013-05-10 01:41:19</td>\n",
              "    </tr>\n",
              "    <tr>\n",
              "      <th>3</th>\n",
              "      <td>65</td>\n",
              "      <td>521</td>\n",
              "      <td>noir thriller</td>\n",
              "      <td>2013-05-10 01:39:43</td>\n",
              "    </tr>\n",
              "    <tr>\n",
              "      <th>4</th>\n",
              "      <td>65</td>\n",
              "      <td>592</td>\n",
              "      <td>dark hero</td>\n",
              "      <td>2013-05-10 01:41:18</td>\n",
              "    </tr>\n",
              "  </tbody>\n",
              "</table>\n",
              "</div>"
            ],
            "text/plain": [
              "   userId  movieId            tag            timestamp\n",
              "0      18     4141    Mark Waters  2009-04-24 18:19:40\n",
              "1      65      208      dark hero  2013-05-10 01:41:18\n",
              "2      65      353      dark hero  2013-05-10 01:41:19\n",
              "3      65      521  noir thriller  2013-05-10 01:39:43\n",
              "4      65      592      dark hero  2013-05-10 01:41:18"
            ]
          },
          "metadata": {},
          "execution_count": 6
        }
      ]
    },
    {
      "cell_type": "code",
      "metadata": {
        "colab": {
          "base_uri": "https://localhost:8080/",
          "height": 206
        },
        "id": "LX56MV-xCs5b",
        "outputId": "d326bc7c-987b-42ce-89be-98287c3caf86"
      },
      "source": [
        "df_links.head()"
      ],
      "execution_count": 7,
      "outputs": [
        {
          "output_type": "execute_result",
          "data": {
            "text/html": [
              "<div>\n",
              "<style scoped>\n",
              "    .dataframe tbody tr th:only-of-type {\n",
              "        vertical-align: middle;\n",
              "    }\n",
              "\n",
              "    .dataframe tbody tr th {\n",
              "        vertical-align: top;\n",
              "    }\n",
              "\n",
              "    .dataframe thead th {\n",
              "        text-align: right;\n",
              "    }\n",
              "</style>\n",
              "<table border=\"1\" class=\"dataframe\">\n",
              "  <thead>\n",
              "    <tr style=\"text-align: right;\">\n",
              "      <th></th>\n",
              "      <th>movieId</th>\n",
              "      <th>imdbId</th>\n",
              "      <th>tmdbId</th>\n",
              "    </tr>\n",
              "  </thead>\n",
              "  <tbody>\n",
              "    <tr>\n",
              "      <th>0</th>\n",
              "      <td>1</td>\n",
              "      <td>114709</td>\n",
              "      <td>862.0</td>\n",
              "    </tr>\n",
              "    <tr>\n",
              "      <th>1</th>\n",
              "      <td>2</td>\n",
              "      <td>113497</td>\n",
              "      <td>8844.0</td>\n",
              "    </tr>\n",
              "    <tr>\n",
              "      <th>2</th>\n",
              "      <td>3</td>\n",
              "      <td>113228</td>\n",
              "      <td>15602.0</td>\n",
              "    </tr>\n",
              "    <tr>\n",
              "      <th>3</th>\n",
              "      <td>4</td>\n",
              "      <td>114885</td>\n",
              "      <td>31357.0</td>\n",
              "    </tr>\n",
              "    <tr>\n",
              "      <th>4</th>\n",
              "      <td>5</td>\n",
              "      <td>113041</td>\n",
              "      <td>11862.0</td>\n",
              "    </tr>\n",
              "  </tbody>\n",
              "</table>\n",
              "</div>"
            ],
            "text/plain": [
              "   movieId  imdbId   tmdbId\n",
              "0        1  114709    862.0\n",
              "1        2  113497   8844.0\n",
              "2        3  113228  15602.0\n",
              "3        4  114885  31357.0\n",
              "4        5  113041  11862.0"
            ]
          },
          "metadata": {},
          "execution_count": 7
        }
      ]
    },
    {
      "cell_type": "code",
      "metadata": {
        "colab": {
          "base_uri": "https://localhost:8080/",
          "height": 206
        },
        "id": "dngh3SD1CxfL",
        "outputId": "aad08777-24aa-44f3-de57-27e27452b755"
      },
      "source": [
        "df_genome_tags.head()"
      ],
      "execution_count": 8,
      "outputs": [
        {
          "output_type": "execute_result",
          "data": {
            "text/html": [
              "<div>\n",
              "<style scoped>\n",
              "    .dataframe tbody tr th:only-of-type {\n",
              "        vertical-align: middle;\n",
              "    }\n",
              "\n",
              "    .dataframe tbody tr th {\n",
              "        vertical-align: top;\n",
              "    }\n",
              "\n",
              "    .dataframe thead th {\n",
              "        text-align: right;\n",
              "    }\n",
              "</style>\n",
              "<table border=\"1\" class=\"dataframe\">\n",
              "  <thead>\n",
              "    <tr style=\"text-align: right;\">\n",
              "      <th></th>\n",
              "      <th>tagId</th>\n",
              "      <th>tag</th>\n",
              "    </tr>\n",
              "  </thead>\n",
              "  <tbody>\n",
              "    <tr>\n",
              "      <th>0</th>\n",
              "      <td>1</td>\n",
              "      <td>007</td>\n",
              "    </tr>\n",
              "    <tr>\n",
              "      <th>1</th>\n",
              "      <td>2</td>\n",
              "      <td>007 (series)</td>\n",
              "    </tr>\n",
              "    <tr>\n",
              "      <th>2</th>\n",
              "      <td>3</td>\n",
              "      <td>18th century</td>\n",
              "    </tr>\n",
              "    <tr>\n",
              "      <th>3</th>\n",
              "      <td>4</td>\n",
              "      <td>1920s</td>\n",
              "    </tr>\n",
              "    <tr>\n",
              "      <th>4</th>\n",
              "      <td>5</td>\n",
              "      <td>1930s</td>\n",
              "    </tr>\n",
              "  </tbody>\n",
              "</table>\n",
              "</div>"
            ],
            "text/plain": [
              "   tagId           tag\n",
              "0      1           007\n",
              "1      2  007 (series)\n",
              "2      3  18th century\n",
              "3      4         1920s\n",
              "4      5         1930s"
            ]
          },
          "metadata": {},
          "execution_count": 8
        }
      ]
    },
    {
      "cell_type": "code",
      "metadata": {
        "colab": {
          "base_uri": "https://localhost:8080/",
          "height": 206
        },
        "id": "ZO1qgdyICzpD",
        "outputId": "aa5c4893-2cd5-4100-bb82-6de3be5bd2c4"
      },
      "source": [
        "df_genome_scores.head()"
      ],
      "execution_count": 9,
      "outputs": [
        {
          "output_type": "execute_result",
          "data": {
            "text/html": [
              "<div>\n",
              "<style scoped>\n",
              "    .dataframe tbody tr th:only-of-type {\n",
              "        vertical-align: middle;\n",
              "    }\n",
              "\n",
              "    .dataframe tbody tr th {\n",
              "        vertical-align: top;\n",
              "    }\n",
              "\n",
              "    .dataframe thead th {\n",
              "        text-align: right;\n",
              "    }\n",
              "</style>\n",
              "<table border=\"1\" class=\"dataframe\">\n",
              "  <thead>\n",
              "    <tr style=\"text-align: right;\">\n",
              "      <th></th>\n",
              "      <th>movieId</th>\n",
              "      <th>tagId</th>\n",
              "      <th>relevance</th>\n",
              "    </tr>\n",
              "  </thead>\n",
              "  <tbody>\n",
              "    <tr>\n",
              "      <th>0</th>\n",
              "      <td>1</td>\n",
              "      <td>1</td>\n",
              "      <td>0.02500</td>\n",
              "    </tr>\n",
              "    <tr>\n",
              "      <th>1</th>\n",
              "      <td>1</td>\n",
              "      <td>2</td>\n",
              "      <td>0.02500</td>\n",
              "    </tr>\n",
              "    <tr>\n",
              "      <th>2</th>\n",
              "      <td>1</td>\n",
              "      <td>3</td>\n",
              "      <td>0.05775</td>\n",
              "    </tr>\n",
              "    <tr>\n",
              "      <th>3</th>\n",
              "      <td>1</td>\n",
              "      <td>4</td>\n",
              "      <td>0.09675</td>\n",
              "    </tr>\n",
              "    <tr>\n",
              "      <th>4</th>\n",
              "      <td>1</td>\n",
              "      <td>5</td>\n",
              "      <td>0.14675</td>\n",
              "    </tr>\n",
              "  </tbody>\n",
              "</table>\n",
              "</div>"
            ],
            "text/plain": [
              "   movieId  tagId  relevance\n",
              "0        1      1    0.02500\n",
              "1        1      2    0.02500\n",
              "2        1      3    0.05775\n",
              "3        1      4    0.09675\n",
              "4        1      5    0.14675"
            ]
          },
          "metadata": {},
          "execution_count": 9
        }
      ]
    },
    {
      "cell_type": "code",
      "metadata": {
        "colab": {
          "base_uri": "https://localhost:8080/"
        },
        "id": "6IROD0EbFUJ3",
        "outputId": "91c22b91-8088-45ed-9f7f-ab55c3d08f02"
      },
      "source": [
        "# Number of unique movies\n",
        "df_movies['title'].nunique()"
      ],
      "execution_count": 10,
      "outputs": [
        {
          "output_type": "execute_result",
          "data": {
            "text/plain": [
              "27262"
            ]
          },
          "metadata": {},
          "execution_count": 10
        }
      ]
    },
    {
      "cell_type": "markdown",
      "metadata": {
        "id": "B4CIVOEPJs-h"
      },
      "source": [
        "# Check null values"
      ]
    },
    {
      "cell_type": "code",
      "metadata": {
        "colab": {
          "base_uri": "https://localhost:8080/"
        },
        "id": "npd7QBx3Jcac",
        "outputId": "3dd4f367-2129-4f9e-d773-f46f8ee34617"
      },
      "source": [
        "df_movies.isnull().sum()"
      ],
      "execution_count": 11,
      "outputs": [
        {
          "output_type": "execute_result",
          "data": {
            "text/plain": [
              "movieId    0\n",
              "title      0\n",
              "genres     0\n",
              "dtype: int64"
            ]
          },
          "metadata": {},
          "execution_count": 11
        }
      ]
    },
    {
      "cell_type": "code",
      "metadata": {
        "colab": {
          "base_uri": "https://localhost:8080/"
        },
        "id": "G6bsxvPSJkJs",
        "outputId": "afb40517-0055-4064-a7b4-ca190f142aa8"
      },
      "source": [
        "df_tags.isnull().sum()"
      ],
      "execution_count": 12,
      "outputs": [
        {
          "output_type": "execute_result",
          "data": {
            "text/plain": [
              "userId        0\n",
              "movieId       0\n",
              "tag          16\n",
              "timestamp     0\n",
              "dtype: int64"
            ]
          },
          "metadata": {},
          "execution_count": 12
        }
      ]
    },
    {
      "cell_type": "code",
      "metadata": {
        "colab": {
          "base_uri": "https://localhost:8080/"
        },
        "id": "qmwF5bPfKf8I",
        "outputId": "eba8f2e7-53dd-417e-a34f-cc494033f82d"
      },
      "source": [
        "df_links.isnull().sum()"
      ],
      "execution_count": 13,
      "outputs": [
        {
          "output_type": "execute_result",
          "data": {
            "text/plain": [
              "movieId      0\n",
              "imdbId       0\n",
              "tmdbId     252\n",
              "dtype: int64"
            ]
          },
          "metadata": {},
          "execution_count": 13
        }
      ]
    },
    {
      "cell_type": "code",
      "metadata": {
        "colab": {
          "base_uri": "https://localhost:8080/"
        },
        "id": "g5CI4yQiKg6V",
        "outputId": "41a53d2c-21ab-45ab-8ea2-6bd3d12ac08a"
      },
      "source": [
        "df_ratings.isnull().sum()"
      ],
      "execution_count": 14,
      "outputs": [
        {
          "output_type": "execute_result",
          "data": {
            "text/plain": [
              "userId       0\n",
              "movieId      0\n",
              "rating       0\n",
              "timestamp    0\n",
              "dtype: int64"
            ]
          },
          "metadata": {},
          "execution_count": 14
        }
      ]
    },
    {
      "cell_type": "code",
      "metadata": {
        "colab": {
          "base_uri": "https://localhost:8080/"
        },
        "id": "l2_oJrY9KbIW",
        "outputId": "c8eb4471-fccd-4068-a237-d71ca954cfaf"
      },
      "source": [
        "df_genome_scores.isnull().sum()"
      ],
      "execution_count": 15,
      "outputs": [
        {
          "output_type": "execute_result",
          "data": {
            "text/plain": [
              "movieId      0\n",
              "tagId        0\n",
              "relevance    0\n",
              "dtype: int64"
            ]
          },
          "metadata": {},
          "execution_count": 15
        }
      ]
    },
    {
      "cell_type": "code",
      "metadata": {
        "colab": {
          "base_uri": "https://localhost:8080/"
        },
        "id": "Hbn09wN4KcFT",
        "outputId": "5b0db13c-a6ae-4886-c017-fceac7a5c658"
      },
      "source": [
        "df_genome_tags.isnull().sum()"
      ],
      "execution_count": 16,
      "outputs": [
        {
          "output_type": "execute_result",
          "data": {
            "text/plain": [
              "tagId    0\n",
              "tag      0\n",
              "dtype: int64"
            ]
          },
          "metadata": {},
          "execution_count": 16
        }
      ]
    },
    {
      "cell_type": "markdown",
      "metadata": {
        "id": "POfCuO-lKmHx"
      },
      "source": [
        "# Number of movies each user rates"
      ]
    },
    {
      "cell_type": "code",
      "metadata": {
        "id": "S8JBYpwCKmO4"
      },
      "source": [
        "df_user_movie = pd.DataFrame()\n",
        "df_user_movie['movie_count'] = df_ratings.groupby(by='userId')['movieId'].count()"
      ],
      "execution_count": 17,
      "outputs": []
    },
    {
      "cell_type": "code",
      "metadata": {
        "colab": {
          "base_uri": "https://localhost:8080/",
          "height": 238
        },
        "id": "6MakzoQUMqbo",
        "outputId": "ab907591-3dc9-4e92-b112-ca8f7ea3b67e"
      },
      "source": [
        "df_user_movie.head()"
      ],
      "execution_count": 18,
      "outputs": [
        {
          "output_type": "execute_result",
          "data": {
            "text/html": [
              "<div>\n",
              "<style scoped>\n",
              "    .dataframe tbody tr th:only-of-type {\n",
              "        vertical-align: middle;\n",
              "    }\n",
              "\n",
              "    .dataframe tbody tr th {\n",
              "        vertical-align: top;\n",
              "    }\n",
              "\n",
              "    .dataframe thead th {\n",
              "        text-align: right;\n",
              "    }\n",
              "</style>\n",
              "<table border=\"1\" class=\"dataframe\">\n",
              "  <thead>\n",
              "    <tr style=\"text-align: right;\">\n",
              "      <th></th>\n",
              "      <th>movie_count</th>\n",
              "    </tr>\n",
              "    <tr>\n",
              "      <th>userId</th>\n",
              "      <th></th>\n",
              "    </tr>\n",
              "  </thead>\n",
              "  <tbody>\n",
              "    <tr>\n",
              "      <th>1</th>\n",
              "      <td>175</td>\n",
              "    </tr>\n",
              "    <tr>\n",
              "      <th>2</th>\n",
              "      <td>61</td>\n",
              "    </tr>\n",
              "    <tr>\n",
              "      <th>3</th>\n",
              "      <td>187</td>\n",
              "    </tr>\n",
              "    <tr>\n",
              "      <th>4</th>\n",
              "      <td>28</td>\n",
              "    </tr>\n",
              "    <tr>\n",
              "      <th>5</th>\n",
              "      <td>66</td>\n",
              "    </tr>\n",
              "  </tbody>\n",
              "</table>\n",
              "</div>"
            ],
            "text/plain": [
              "        movie_count\n",
              "userId             \n",
              "1               175\n",
              "2                61\n",
              "3               187\n",
              "4                28\n",
              "5                66"
            ]
          },
          "metadata": {},
          "execution_count": 18
        }
      ]
    },
    {
      "cell_type": "code",
      "metadata": {
        "colab": {
          "base_uri": "https://localhost:8080/",
          "height": 300
        },
        "id": "DSxyEbEEMu4l",
        "outputId": "758d9565-b5af-48de-837b-c9ffa421b6d1"
      },
      "source": [
        "df_user_movie.describe()"
      ],
      "execution_count": 19,
      "outputs": [
        {
          "output_type": "execute_result",
          "data": {
            "text/html": [
              "<div>\n",
              "<style scoped>\n",
              "    .dataframe tbody tr th:only-of-type {\n",
              "        vertical-align: middle;\n",
              "    }\n",
              "\n",
              "    .dataframe tbody tr th {\n",
              "        vertical-align: top;\n",
              "    }\n",
              "\n",
              "    .dataframe thead th {\n",
              "        text-align: right;\n",
              "    }\n",
              "</style>\n",
              "<table border=\"1\" class=\"dataframe\">\n",
              "  <thead>\n",
              "    <tr style=\"text-align: right;\">\n",
              "      <th></th>\n",
              "      <th>movie_count</th>\n",
              "    </tr>\n",
              "  </thead>\n",
              "  <tbody>\n",
              "    <tr>\n",
              "      <th>count</th>\n",
              "      <td>138493.000000</td>\n",
              "    </tr>\n",
              "    <tr>\n",
              "      <th>mean</th>\n",
              "      <td>144.413530</td>\n",
              "    </tr>\n",
              "    <tr>\n",
              "      <th>std</th>\n",
              "      <td>230.267257</td>\n",
              "    </tr>\n",
              "    <tr>\n",
              "      <th>min</th>\n",
              "      <td>20.000000</td>\n",
              "    </tr>\n",
              "    <tr>\n",
              "      <th>25%</th>\n",
              "      <td>35.000000</td>\n",
              "    </tr>\n",
              "    <tr>\n",
              "      <th>50%</th>\n",
              "      <td>68.000000</td>\n",
              "    </tr>\n",
              "    <tr>\n",
              "      <th>75%</th>\n",
              "      <td>155.000000</td>\n",
              "    </tr>\n",
              "    <tr>\n",
              "      <th>max</th>\n",
              "      <td>9254.000000</td>\n",
              "    </tr>\n",
              "  </tbody>\n",
              "</table>\n",
              "</div>"
            ],
            "text/plain": [
              "         movie_count\n",
              "count  138493.000000\n",
              "mean      144.413530\n",
              "std       230.267257\n",
              "min        20.000000\n",
              "25%        35.000000\n",
              "50%        68.000000\n",
              "75%       155.000000\n",
              "max      9254.000000"
            ]
          },
          "metadata": {},
          "execution_count": 19
        }
      ]
    },
    {
      "cell_type": "markdown",
      "metadata": {
        "id": "M7qy27VSMz7K"
      },
      "source": [
        "Sample first 100 users"
      ]
    },
    {
      "cell_type": "code",
      "metadata": {
        "id": "eXzXfWm0MySW",
        "colab": {
          "base_uri": "https://localhost:8080/",
          "height": 404
        },
        "outputId": "36547961-6aae-439c-f2e6-85096741dcdc"
      },
      "source": [
        "plt.figure(figsize=(20,6))\n",
        "sns.barplot(x=df_user_movie.index[:100], y='movie_count', data=df_user_movie.iloc[:100]).set(title='Number of movies watched by users')\n",
        "plt.show()"
      ],
      "execution_count": 20,
      "outputs": [
        {
          "output_type": "display_data",
          "data": {
            "image/png": "[encoded data removed]",
            "text/plain": [
              "<Figure size 1440x432 with 1 Axes>"
            ]
          },
          "metadata": {
            "needs_background": "light"
          }
        }
      ]
    },
    {
      "cell_type": "code",
      "metadata": {
        "id": "5EmdpS4qrXZv"
      },
      "source": [
        "df_movie_ratings = pd.DataFrame()\n",
        "df_movie_ratings['average_rating'] = df_ratings.groupby(by='movieId')['rating'].mean()"
      ],
      "execution_count": 21,
      "outputs": []
    },
    {
      "cell_type": "code",
      "metadata": {
        "colab": {
          "base_uri": "https://localhost:8080/",
          "height": 602
        },
        "id": "XZvPSfAn5e2E",
        "outputId": "30c243dd-e6cf-4e53-96c7-f4475854394f"
      },
      "source": [
        "sns.displot(df_movie_ratings['average_rating'].fillna(df_movie_ratings['average_rating'].median()), kde=True, height = 8)"
      ],
      "execution_count": 22,
      "outputs": [
        {
          "output_type": "execute_result",
          "data": {
            "text/plain": [
              "<seaborn.axisgrid.FacetGrid at 0x7f90dbf60f50>"
            ]
          },
          "metadata": {},
          "execution_count": 22
        },
        {
          "output_type": "display_data",
          "data": {
            "image/png": "[encoded data removed]",
            "text/plain": [
              "<Figure size 576x576 with 1 Axes>"
            ]
          },
          "metadata": {
            "needs_background": "light"
          }
        }
      ]
    },
    {
      "cell_type": "code",
      "metadata": {
        "colab": {
          "base_uri": "https://localhost:8080/",
          "height": 350
        },
        "id": "cwGvIO4g5uBs",
        "outputId": "c0789b77-4f64-4890-e25d-344dd7e86aa9"
      },
      "source": [
        "plt.figure(figsize=(12,5))\n",
        "sns.barplot(x=df_movie_ratings.index[1:50], y='average_rating', data=df_movie_ratings.iloc[1:50]).set(title='Average ratings of movies')\n",
        "plt.show()"
      ],
      "execution_count": 23,
      "outputs": [
        {
          "output_type": "display_data",
          "data": {
            "image/png": "[encoded data removed]",
            "text/plain": [
              "<Figure size 864x360 with 1 Axes>"
            ]
          },
          "metadata": {
            "needs_background": "light"
          }
        }
      ]
    },
    {
      "cell_type": "code",
      "metadata": {
        "colab": {
          "base_uri": "https://localhost:8080/",
          "height": 286
        },
        "id": "JUx9w9gx5yjJ",
        "outputId": "bd6c9c99-9ba4-4f70-c26d-1b57e6cbaac4"
      },
      "source": [
        "df_movie_ratings['average_rating'].plot(logy=True, kind='hist')"
      ],
      "execution_count": 24,
      "outputs": [
        {
          "output_type": "execute_result",
          "data": {
            "text/plain": [
              "<matplotlib.axes._subplots.AxesSubplot at 0x7f90dbf29350>"
            ]
          },
          "metadata": {},
          "execution_count": 24
        },
        {
          "output_type": "display_data",
          "data": {
            "image/png": "[encoded data removed]",
            "text/plain": [
              "<Figure size 432x288 with 1 Axes>"
            ]
          },
          "metadata": {
            "needs_background": "light"
          }
        }
      ]
    },
    {
      "cell_type": "markdown",
      "metadata": {
        "id": "NTk0rFvX56F9"
      },
      "source": [
        "# Check top rated movies"
      ]
    },
    {
      "cell_type": "code",
      "metadata": {
        "colab": {
          "base_uri": "https://localhost:8080/",
          "height": 424
        },
        "id": "WeChhBlw58MR",
        "outputId": "8aad4382-6f3b-4706-956f-d929b87a2601"
      },
      "source": [
        "df_movie_ratings_sorted = df_movie_ratings.sort_values(by=['average_rating'], ascending=False)\n",
        "df_movie_ratings_sorted.reset_index()"
      ],
      "execution_count": 25,
      "outputs": [
        {
          "output_type": "execute_result",
          "data": {
            "text/html": [
              "<div>\n",
              "<style scoped>\n",
              "    .dataframe tbody tr th:only-of-type {\n",
              "        vertical-align: middle;\n",
              "    }\n",
              "\n",
              "    .dataframe tbody tr th {\n",
              "        vertical-align: top;\n",
              "    }\n",
              "\n",
              "    .dataframe thead th {\n",
              "        text-align: right;\n",
              "    }\n",
              "</style>\n",
              "<table border=\"1\" class=\"dataframe\">\n",
              "  <thead>\n",
              "    <tr style=\"text-align: right;\">\n",
              "      <th></th>\n",
              "      <th>movieId</th>\n",
              "      <th>average_rating</th>\n",
              "    </tr>\n",
              "  </thead>\n",
              "  <tbody>\n",
              "    <tr>\n",
              "      <th>0</th>\n",
              "      <td>95517</td>\n",
              "      <td>5.0</td>\n",
              "    </tr>\n",
              "    <tr>\n",
              "      <th>1</th>\n",
              "      <td>105846</td>\n",
              "      <td>5.0</td>\n",
              "    </tr>\n",
              "    <tr>\n",
              "      <th>2</th>\n",
              "      <td>89133</td>\n",
              "      <td>5.0</td>\n",
              "    </tr>\n",
              "    <tr>\n",
              "      <th>3</th>\n",
              "      <td>105187</td>\n",
              "      <td>5.0</td>\n",
              "    </tr>\n",
              "    <tr>\n",
              "      <th>4</th>\n",
              "      <td>105191</td>\n",
              "      <td>5.0</td>\n",
              "    </tr>\n",
              "    <tr>\n",
              "      <th>...</th>\n",
              "      <td>...</td>\n",
              "      <td>...</td>\n",
              "    </tr>\n",
              "    <tr>\n",
              "      <th>26739</th>\n",
              "      <td>129784</td>\n",
              "      <td>0.5</td>\n",
              "    </tr>\n",
              "    <tr>\n",
              "      <th>26740</th>\n",
              "      <td>92479</td>\n",
              "      <td>0.5</td>\n",
              "    </tr>\n",
              "    <tr>\n",
              "      <th>26741</th>\n",
              "      <td>129834</td>\n",
              "      <td>0.5</td>\n",
              "    </tr>\n",
              "    <tr>\n",
              "      <th>26742</th>\n",
              "      <td>115631</td>\n",
              "      <td>0.5</td>\n",
              "    </tr>\n",
              "    <tr>\n",
              "      <th>26743</th>\n",
              "      <td>119909</td>\n",
              "      <td>0.5</td>\n",
              "    </tr>\n",
              "  </tbody>\n",
              "</table>\n",
              "<p>26744 rows × 2 columns</p>\n",
              "</div>"
            ],
            "text/plain": [
              "       movieId  average_rating\n",
              "0        95517             5.0\n",
              "1       105846             5.0\n",
              "2        89133             5.0\n",
              "3       105187             5.0\n",
              "4       105191             5.0\n",
              "...        ...             ...\n",
              "26739   129784             0.5\n",
              "26740    92479             0.5\n",
              "26741   129834             0.5\n",
              "26742   115631             0.5\n",
              "26743   119909             0.5\n",
              "\n",
              "[26744 rows x 2 columns]"
            ]
          },
          "metadata": {},
          "execution_count": 25
        }
      ]
    },
    {
      "cell_type": "code",
      "metadata": {
        "colab": {
          "base_uri": "https://localhost:8080/",
          "height": 677
        },
        "id": "hyvOMSuf5_mB",
        "outputId": "f31f9469-7d48-4849-d617-2ebb87e9a6be"
      },
      "source": [
        "# Top 20 movies\n",
        "df_movie_ratings_sorted[:20].merge(df_movies, how='left', on='movieId')"
      ],
      "execution_count": 26,
      "outputs": [
        {
          "output_type": "execute_result",
          "data": {
            "text/html": [
              "<div>\n",
              "<style scoped>\n",
              "    .dataframe tbody tr th:only-of-type {\n",
              "        vertical-align: middle;\n",
              "    }\n",
              "\n",
              "    .dataframe tbody tr th {\n",
              "        vertical-align: top;\n",
              "    }\n",
              "\n",
              "    .dataframe thead th {\n",
              "        text-align: right;\n",
              "    }\n",
              "</style>\n",
              "<table border=\"1\" class=\"dataframe\">\n",
              "  <thead>\n",
              "    <tr style=\"text-align: right;\">\n",
              "      <th></th>\n",
              "      <th>movieId</th>\n",
              "      <th>average_rating</th>\n",
              "      <th>title</th>\n",
              "      <th>genres</th>\n",
              "    </tr>\n",
              "  </thead>\n",
              "  <tbody>\n",
              "    <tr>\n",
              "      <th>0</th>\n",
              "      <td>95517</td>\n",
              "      <td>5.0</td>\n",
              "      <td>Barchester Chronicles, The (1982)</td>\n",
              "      <td>Drama</td>\n",
              "    </tr>\n",
              "    <tr>\n",
              "      <th>1</th>\n",
              "      <td>105846</td>\n",
              "      <td>5.0</td>\n",
              "      <td>Only Daughter (2013)</td>\n",
              "      <td>Drama</td>\n",
              "    </tr>\n",
              "    <tr>\n",
              "      <th>2</th>\n",
              "      <td>89133</td>\n",
              "      <td>5.0</td>\n",
              "      <td>Boys (Drenge) (1977)</td>\n",
              "      <td>Drama</td>\n",
              "    </tr>\n",
              "    <tr>\n",
              "      <th>3</th>\n",
              "      <td>105187</td>\n",
              "      <td>5.0</td>\n",
              "      <td>Linotype: The Film (2012)</td>\n",
              "      <td>Documentary</td>\n",
              "    </tr>\n",
              "    <tr>\n",
              "      <th>4</th>\n",
              "      <td>105191</td>\n",
              "      <td>5.0</td>\n",
              "      <td>Rocaterrania (2009)</td>\n",
              "      <td>Documentary|Fantasy</td>\n",
              "    </tr>\n",
              "    <tr>\n",
              "      <th>5</th>\n",
              "      <td>88488</td>\n",
              "      <td>5.0</td>\n",
              "      <td>Summer Wishes, Winter Dreams (1973)</td>\n",
              "      <td>Drama</td>\n",
              "    </tr>\n",
              "    <tr>\n",
              "      <th>6</th>\n",
              "      <td>126945</td>\n",
              "      <td>5.0</td>\n",
              "      <td>Small Roads (2011)</td>\n",
              "      <td>(no genres listed)</td>\n",
              "    </tr>\n",
              "    <tr>\n",
              "      <th>7</th>\n",
              "      <td>105526</td>\n",
              "      <td>5.0</td>\n",
              "      <td>Year Zero: The Silent Death of Cambodia (1979)</td>\n",
              "      <td>Documentary</td>\n",
              "    </tr>\n",
              "    <tr>\n",
              "      <th>8</th>\n",
              "      <td>105529</td>\n",
              "      <td>5.0</td>\n",
              "      <td>Stealing a Nation (2004)</td>\n",
              "      <td>Documentary</td>\n",
              "    </tr>\n",
              "    <tr>\n",
              "      <th>9</th>\n",
              "      <td>105841</td>\n",
              "      <td>5.0</td>\n",
              "      <td>B-Side (2013)</td>\n",
              "      <td>Comedy|Romance</td>\n",
              "    </tr>\n",
              "    <tr>\n",
              "      <th>10</th>\n",
              "      <td>126397</td>\n",
              "      <td>5.0</td>\n",
              "      <td>The Encounter (2010)</td>\n",
              "      <td>Children|Drama</td>\n",
              "    </tr>\n",
              "    <tr>\n",
              "      <th>11</th>\n",
              "      <td>103912</td>\n",
              "      <td>5.0</td>\n",
              "      <td>Giorgino (1994)</td>\n",
              "      <td>Adventure|Drama|Horror</td>\n",
              "    </tr>\n",
              "    <tr>\n",
              "      <th>12</th>\n",
              "      <td>126219</td>\n",
              "      <td>5.0</td>\n",
              "      <td>Marihuana (1936)</td>\n",
              "      <td>Documentary|Drama</td>\n",
              "    </tr>\n",
              "    <tr>\n",
              "      <th>13</th>\n",
              "      <td>106082</td>\n",
              "      <td>5.0</td>\n",
              "      <td>Shock and Awe: The Story of Electricity (2011)</td>\n",
              "      <td>Documentary</td>\n",
              "    </tr>\n",
              "    <tr>\n",
              "      <th>14</th>\n",
              "      <td>106113</td>\n",
              "      <td>5.0</td>\n",
              "      <td>Such Hawks Such Hounds (2008)</td>\n",
              "      <td>Documentary</td>\n",
              "    </tr>\n",
              "    <tr>\n",
              "      <th>15</th>\n",
              "      <td>106115</td>\n",
              "      <td>5.0</td>\n",
              "      <td>Story of Science, The (2010)</td>\n",
              "      <td>Documentary</td>\n",
              "    </tr>\n",
              "    <tr>\n",
              "      <th>16</th>\n",
              "      <td>125599</td>\n",
              "      <td>5.0</td>\n",
              "      <td>Always for Pleasure (1978)</td>\n",
              "      <td>(no genres listed)</td>\n",
              "    </tr>\n",
              "    <tr>\n",
              "      <th>17</th>\n",
              "      <td>106517</td>\n",
              "      <td>5.0</td>\n",
              "      <td>De la servitude moderne (2009)</td>\n",
              "      <td>Documentary</td>\n",
              "    </tr>\n",
              "    <tr>\n",
              "      <th>18</th>\n",
              "      <td>107252</td>\n",
              "      <td>5.0</td>\n",
              "      <td>Island at War (2004)</td>\n",
              "      <td>Drama|War</td>\n",
              "    </tr>\n",
              "    <tr>\n",
              "      <th>19</th>\n",
              "      <td>86055</td>\n",
              "      <td>5.0</td>\n",
              "      <td>Foster Brothers, The (Süt kardesler) (1976)</td>\n",
              "      <td>Comedy</td>\n",
              "    </tr>\n",
              "  </tbody>\n",
              "</table>\n",
              "</div>"
            ],
            "text/plain": [
              "    movieId  ...                  genres\n",
              "0     95517  ...                   Drama\n",
              "1    105846  ...                   Drama\n",
              "2     89133  ...                   Drama\n",
              "3    105187  ...             Documentary\n",
              "4    105191  ...     Documentary|Fantasy\n",
              "5     88488  ...                   Drama\n",
              "6    126945  ...      (no genres listed)\n",
              "7    105526  ...             Documentary\n",
              "8    105529  ...             Documentary\n",
              "9    105841  ...          Comedy|Romance\n",
              "10   126397  ...          Children|Drama\n",
              "11   103912  ...  Adventure|Drama|Horror\n",
              "12   126219  ...       Documentary|Drama\n",
              "13   106082  ...             Documentary\n",
              "14   106113  ...             Documentary\n",
              "15   106115  ...             Documentary\n",
              "16   125599  ...      (no genres listed)\n",
              "17   106517  ...             Documentary\n",
              "18   107252  ...               Drama|War\n",
              "19    86055  ...                  Comedy\n",
              "\n",
              "[20 rows x 4 columns]"
            ]
          },
          "metadata": {},
          "execution_count": 26
        }
      ]
    },
    {
      "cell_type": "code",
      "metadata": {
        "id": "Dye9xbda6Epk"
      },
      "source": [
        "df_movie_number_of_being_rated = df_ratings.groupby(by='movieId')['userId'].count()\n",
        "df_movie_number_of_being_rated = df_movie_number_of_being_rated.reset_index(name=\"number_of_ratings\")"
      ],
      "execution_count": 27,
      "outputs": []
    },
    {
      "cell_type": "code",
      "metadata": {
        "colab": {
          "base_uri": "https://localhost:8080/",
          "height": 206
        },
        "id": "6uPmwiR17UUP",
        "outputId": "898b83d1-3a47-4f79-95b7-2ad546d55c5a"
      },
      "source": [
        "df_movie_number_of_being_rated.head()"
      ],
      "execution_count": 28,
      "outputs": [
        {
          "output_type": "execute_result",
          "data": {
            "text/html": [
              "<div>\n",
              "<style scoped>\n",
              "    .dataframe tbody tr th:only-of-type {\n",
              "        vertical-align: middle;\n",
              "    }\n",
              "\n",
              "    .dataframe tbody tr th {\n",
              "        vertical-align: top;\n",
              "    }\n",
              "\n",
              "    .dataframe thead th {\n",
              "        text-align: right;\n",
              "    }\n",
              "</style>\n",
              "<table border=\"1\" class=\"dataframe\">\n",
              "  <thead>\n",
              "    <tr style=\"text-align: right;\">\n",
              "      <th></th>\n",
              "      <th>movieId</th>\n",
              "      <th>number_of_ratings</th>\n",
              "    </tr>\n",
              "  </thead>\n",
              "  <tbody>\n",
              "    <tr>\n",
              "      <th>0</th>\n",
              "      <td>1</td>\n",
              "      <td>49695</td>\n",
              "    </tr>\n",
              "    <tr>\n",
              "      <th>1</th>\n",
              "      <td>2</td>\n",
              "      <td>22243</td>\n",
              "    </tr>\n",
              "    <tr>\n",
              "      <th>2</th>\n",
              "      <td>3</td>\n",
              "      <td>12735</td>\n",
              "    </tr>\n",
              "    <tr>\n",
              "      <th>3</th>\n",
              "      <td>4</td>\n",
              "      <td>2756</td>\n",
              "    </tr>\n",
              "    <tr>\n",
              "      <th>4</th>\n",
              "      <td>5</td>\n",
              "      <td>12161</td>\n",
              "    </tr>\n",
              "  </tbody>\n",
              "</table>\n",
              "</div>"
            ],
            "text/plain": [
              "   movieId  number_of_ratings\n",
              "0        1              49695\n",
              "1        2              22243\n",
              "2        3              12735\n",
              "3        4               2756\n",
              "4        5              12161"
            ]
          },
          "metadata": {},
          "execution_count": 28
        }
      ]
    },
    {
      "cell_type": "code",
      "metadata": {
        "id": "CLcyhyLS6Pec"
      },
      "source": [
        "df_movie_ratings_sorted = df_movie_ratings_sorted.merge(df_movie_number_of_being_rated, how='left', on='movieId')\n"
      ],
      "execution_count": 29,
      "outputs": []
    },
    {
      "cell_type": "code",
      "metadata": {
        "colab": {
          "base_uri": "https://localhost:8080/",
          "height": 206
        },
        "id": "Cp9gcw837MMf",
        "outputId": "6998df7c-582e-4185-c37b-d957ed045ded"
      },
      "source": [
        "df_movie_ratings_sorted.head()"
      ],
      "execution_count": 30,
      "outputs": [
        {
          "output_type": "execute_result",
          "data": {
            "text/html": [
              "<div>\n",
              "<style scoped>\n",
              "    .dataframe tbody tr th:only-of-type {\n",
              "        vertical-align: middle;\n",
              "    }\n",
              "\n",
              "    .dataframe tbody tr th {\n",
              "        vertical-align: top;\n",
              "    }\n",
              "\n",
              "    .dataframe thead th {\n",
              "        text-align: right;\n",
              "    }\n",
              "</style>\n",
              "<table border=\"1\" class=\"dataframe\">\n",
              "  <thead>\n",
              "    <tr style=\"text-align: right;\">\n",
              "      <th></th>\n",
              "      <th>movieId</th>\n",
              "      <th>average_rating</th>\n",
              "      <th>number_of_ratings</th>\n",
              "    </tr>\n",
              "  </thead>\n",
              "  <tbody>\n",
              "    <tr>\n",
              "      <th>0</th>\n",
              "      <td>95517</td>\n",
              "      <td>5.0</td>\n",
              "      <td>1</td>\n",
              "    </tr>\n",
              "    <tr>\n",
              "      <th>1</th>\n",
              "      <td>105846</td>\n",
              "      <td>5.0</td>\n",
              "      <td>1</td>\n",
              "    </tr>\n",
              "    <tr>\n",
              "      <th>2</th>\n",
              "      <td>89133</td>\n",
              "      <td>5.0</td>\n",
              "      <td>1</td>\n",
              "    </tr>\n",
              "    <tr>\n",
              "      <th>3</th>\n",
              "      <td>105187</td>\n",
              "      <td>5.0</td>\n",
              "      <td>1</td>\n",
              "    </tr>\n",
              "    <tr>\n",
              "      <th>4</th>\n",
              "      <td>105191</td>\n",
              "      <td>5.0</td>\n",
              "      <td>1</td>\n",
              "    </tr>\n",
              "  </tbody>\n",
              "</table>\n",
              "</div>"
            ],
            "text/plain": [
              "   movieId  average_rating  number_of_ratings\n",
              "0    95517             5.0                  1\n",
              "1   105846             5.0                  1\n",
              "2    89133             5.0                  1\n",
              "3   105187             5.0                  1\n",
              "4   105191             5.0                  1"
            ]
          },
          "metadata": {},
          "execution_count": 30
        }
      ]
    },
    {
      "cell_type": "code",
      "metadata": {
        "id": "POSVK2ja6uzd"
      },
      "source": [
        "df_movie_ratings_sorted = df_movie_ratings_sorted[df_movie_ratings_sorted['number_of_ratings'] > 10000]"
      ],
      "execution_count": 31,
      "outputs": []
    },
    {
      "cell_type": "code",
      "metadata": {
        "id": "ASypbRuf72TN"
      },
      "source": [
        "df_movie_ratings_with_title_genres = df_movie_ratings_sorted[:20].merge(df_movies, how='left', on='movieId')"
      ],
      "execution_count": 32,
      "outputs": []
    },
    {
      "cell_type": "code",
      "metadata": {
        "colab": {
          "base_uri": "https://localhost:8080/",
          "height": 677
        },
        "id": "ev9anm8676Cq",
        "outputId": "0c5d6dfe-b434-4e29-cf03-83bdcad67b05"
      },
      "source": [
        "df_movie_ratings_with_title_genres[:20]"
      ],
      "execution_count": 33,
      "outputs": [
        {
          "output_type": "execute_result",
          "data": {
            "text/html": [
              "<div>\n",
              "<style scoped>\n",
              "    .dataframe tbody tr th:only-of-type {\n",
              "        vertical-align: middle;\n",
              "    }\n",
              "\n",
              "    .dataframe tbody tr th {\n",
              "        vertical-align: top;\n",
              "    }\n",
              "\n",
              "    .dataframe thead th {\n",
              "        text-align: right;\n",
              "    }\n",
              "</style>\n",
              "<table border=\"1\" class=\"dataframe\">\n",
              "  <thead>\n",
              "    <tr style=\"text-align: right;\">\n",
              "      <th></th>\n",
              "      <th>movieId</th>\n",
              "      <th>average_rating</th>\n",
              "      <th>number_of_ratings</th>\n",
              "      <th>title</th>\n",
              "      <th>genres</th>\n",
              "    </tr>\n",
              "  </thead>\n",
              "  <tbody>\n",
              "    <tr>\n",
              "      <th>0</th>\n",
              "      <td>318</td>\n",
              "      <td>4.446990</td>\n",
              "      <td>63366</td>\n",
              "      <td>Shawshank Redemption, The (1994)</td>\n",
              "      <td>Crime|Drama</td>\n",
              "    </tr>\n",
              "    <tr>\n",
              "      <th>1</th>\n",
              "      <td>858</td>\n",
              "      <td>4.364732</td>\n",
              "      <td>41355</td>\n",
              "      <td>Godfather, The (1972)</td>\n",
              "      <td>Crime|Drama</td>\n",
              "    </tr>\n",
              "    <tr>\n",
              "      <th>2</th>\n",
              "      <td>50</td>\n",
              "      <td>4.334372</td>\n",
              "      <td>47006</td>\n",
              "      <td>Usual Suspects, The (1995)</td>\n",
              "      <td>Crime|Mystery|Thriller</td>\n",
              "    </tr>\n",
              "    <tr>\n",
              "      <th>3</th>\n",
              "      <td>527</td>\n",
              "      <td>4.310175</td>\n",
              "      <td>50054</td>\n",
              "      <td>Schindler's List (1993)</td>\n",
              "      <td>Drama|War</td>\n",
              "    </tr>\n",
              "    <tr>\n",
              "      <th>4</th>\n",
              "      <td>1221</td>\n",
              "      <td>4.275641</td>\n",
              "      <td>27398</td>\n",
              "      <td>Godfather: Part II, The (1974)</td>\n",
              "      <td>Crime|Drama</td>\n",
              "    </tr>\n",
              "    <tr>\n",
              "      <th>5</th>\n",
              "      <td>2019</td>\n",
              "      <td>4.274180</td>\n",
              "      <td>11611</td>\n",
              "      <td>Seven Samurai (Shichinin no samurai) (1954)</td>\n",
              "      <td>Action|Adventure|Drama</td>\n",
              "    </tr>\n",
              "    <tr>\n",
              "      <th>6</th>\n",
              "      <td>904</td>\n",
              "      <td>4.271334</td>\n",
              "      <td>17449</td>\n",
              "      <td>Rear Window (1954)</td>\n",
              "      <td>Mystery|Thriller</td>\n",
              "    </tr>\n",
              "    <tr>\n",
              "      <th>7</th>\n",
              "      <td>912</td>\n",
              "      <td>4.258327</td>\n",
              "      <td>24349</td>\n",
              "      <td>Casablanca (1942)</td>\n",
              "      <td>Drama|Romance</td>\n",
              "    </tr>\n",
              "    <tr>\n",
              "      <th>8</th>\n",
              "      <td>1193</td>\n",
              "      <td>4.248079</td>\n",
              "      <td>29932</td>\n",
              "      <td>One Flew Over the Cuckoo's Nest (1975)</td>\n",
              "      <td>Drama</td>\n",
              "    </tr>\n",
              "    <tr>\n",
              "      <th>9</th>\n",
              "      <td>750</td>\n",
              "      <td>4.247287</td>\n",
              "      <td>23220</td>\n",
              "      <td>Dr. Strangelove or: How I Learned to Stop Worr...</td>\n",
              "      <td>Comedy|War</td>\n",
              "    </tr>\n",
              "    <tr>\n",
              "      <th>10</th>\n",
              "      <td>6016</td>\n",
              "      <td>4.235410</td>\n",
              "      <td>12937</td>\n",
              "      <td>City of God (Cidade de Deus) (2002)</td>\n",
              "      <td>Action|Adventure|Crime|Drama|Thriller</td>\n",
              "    </tr>\n",
              "    <tr>\n",
              "      <th>11</th>\n",
              "      <td>908</td>\n",
              "      <td>4.233538</td>\n",
              "      <td>15627</td>\n",
              "      <td>North by Northwest (1959)</td>\n",
              "      <td>Action|Adventure|Mystery|Romance|Thriller</td>\n",
              "    </tr>\n",
              "    <tr>\n",
              "      <th>12</th>\n",
              "      <td>2959</td>\n",
              "      <td>4.227123</td>\n",
              "      <td>40106</td>\n",
              "      <td>Fight Club (1999)</td>\n",
              "      <td>Action|Crime|Drama|Thriller</td>\n",
              "    </tr>\n",
              "    <tr>\n",
              "      <th>13</th>\n",
              "      <td>1203</td>\n",
              "      <td>4.224138</td>\n",
              "      <td>12934</td>\n",
              "      <td>12 Angry Men (1957)</td>\n",
              "      <td>Drama</td>\n",
              "    </tr>\n",
              "    <tr>\n",
              "      <th>14</th>\n",
              "      <td>58559</td>\n",
              "      <td>4.220129</td>\n",
              "      <td>20438</td>\n",
              "      <td>Dark Knight, The (2008)</td>\n",
              "      <td>Action|Crime|Drama|IMAX</td>\n",
              "    </tr>\n",
              "    <tr>\n",
              "      <th>15</th>\n",
              "      <td>1198</td>\n",
              "      <td>4.219009</td>\n",
              "      <td>43295</td>\n",
              "      <td>Raiders of the Lost Ark (Indiana Jones and the...</td>\n",
              "      <td>Action|Adventure</td>\n",
              "    </tr>\n",
              "    <tr>\n",
              "      <th>16</th>\n",
              "      <td>5618</td>\n",
              "      <td>4.203810</td>\n",
              "      <td>13466</td>\n",
              "      <td>Spirited Away (Sen to Chihiro no kamikakushi) ...</td>\n",
              "      <td>Adventure|Animation|Fantasy</td>\n",
              "    </tr>\n",
              "    <tr>\n",
              "      <th>17</th>\n",
              "      <td>1252</td>\n",
              "      <td>4.199673</td>\n",
              "      <td>15310</td>\n",
              "      <td>Chinatown (1974)</td>\n",
              "      <td>Crime|Film-Noir|Mystery|Thriller</td>\n",
              "    </tr>\n",
              "    <tr>\n",
              "      <th>18</th>\n",
              "      <td>4973</td>\n",
              "      <td>4.197072</td>\n",
              "      <td>24349</td>\n",
              "      <td>Amelie (Fabuleux destin d'Amélie Poulain, Le) ...</td>\n",
              "      <td>Comedy|Romance</td>\n",
              "    </tr>\n",
              "    <tr>\n",
              "      <th>19</th>\n",
              "      <td>260</td>\n",
              "      <td>4.190672</td>\n",
              "      <td>54502</td>\n",
              "      <td>Star Wars: Episode IV - A New Hope (1977)</td>\n",
              "      <td>Action|Adventure|Sci-Fi</td>\n",
              "    </tr>\n",
              "  </tbody>\n",
              "</table>\n",
              "</div>"
            ],
            "text/plain": [
              "    movieId  ...                                     genres\n",
              "0       318  ...                                Crime|Drama\n",
              "1       858  ...                                Crime|Drama\n",
              "2        50  ...                     Crime|Mystery|Thriller\n",
              "3       527  ...                                  Drama|War\n",
              "4      1221  ...                                Crime|Drama\n",
              "5      2019  ...                     Action|Adventure|Drama\n",
              "6       904  ...                           Mystery|Thriller\n",
              "7       912  ...                              Drama|Romance\n",
              "8      1193  ...                                      Drama\n",
              "9       750  ...                                 Comedy|War\n",
              "10     6016  ...      Action|Adventure|Crime|Drama|Thriller\n",
              "11      908  ...  Action|Adventure|Mystery|Romance|Thriller\n",
              "12     2959  ...                Action|Crime|Drama|Thriller\n",
              "13     1203  ...                                      Drama\n",
              "14    58559  ...                    Action|Crime|Drama|IMAX\n",
              "15     1198  ...                           Action|Adventure\n",
              "16     5618  ...                Adventure|Animation|Fantasy\n",
              "17     1252  ...           Crime|Film-Noir|Mystery|Thriller\n",
              "18     4973  ...                             Comedy|Romance\n",
              "19      260  ...                    Action|Adventure|Sci-Fi\n",
              "\n",
              "[20 rows x 5 columns]"
            ]
          },
          "metadata": {},
          "execution_count": 33
        }
      ]
    },
    {
      "cell_type": "markdown",
      "metadata": {
        "id": "DJ8ImwRL8AIN"
      },
      "source": [
        "# Explore which genres are more popular"
      ]
    },
    {
      "cell_type": "code",
      "metadata": {
        "colab": {
          "base_uri": "https://localhost:8080/"
        },
        "id": "57bESCAo8EJ4",
        "outputId": "ae48af39-d018-4e0f-b39e-bab2ddd55a1f"
      },
      "source": [
        "# Number of unique genres\n",
        "len(df_movie_ratings_with_title_genres.genres.unique())"
      ],
      "execution_count": 34,
      "outputs": [
        {
          "output_type": "execute_result",
          "data": {
            "text/plain": [
              "17"
            ]
          },
          "metadata": {},
          "execution_count": 34
        }
      ]
    },
    {
      "cell_type": "code",
      "metadata": {
        "id": "fw33HCMc8HFU"
      },
      "source": [
        "df_genres_average_ratings = df_movie_ratings_with_title_genres.groupby(by='genres')['average_rating'].mean().reset_index()"
      ],
      "execution_count": 35,
      "outputs": []
    },
    {
      "cell_type": "code",
      "metadata": {
        "colab": {
          "base_uri": "https://localhost:8080/",
          "height": 582
        },
        "id": "l1ZmXfyp8KmN",
        "outputId": "6b65f3b0-43e4-4d32-89f3-b970fe6e2d57"
      },
      "source": [
        "popular_genres_df = df_genres_average_ratings.sort_values(by=['average_rating'], ascending=False)\n",
        "popular_genres_df"
      ],
      "execution_count": 36,
      "outputs": [
        {
          "output_type": "execute_result",
          "data": {
            "text/html": [
              "<div>\n",
              "<style scoped>\n",
              "    .dataframe tbody tr th:only-of-type {\n",
              "        vertical-align: middle;\n",
              "    }\n",
              "\n",
              "    .dataframe tbody tr th {\n",
              "        vertical-align: top;\n",
              "    }\n",
              "\n",
              "    .dataframe thead th {\n",
              "        text-align: right;\n",
              "    }\n",
              "</style>\n",
              "<table border=\"1\" class=\"dataframe\">\n",
              "  <thead>\n",
              "    <tr style=\"text-align: right;\">\n",
              "      <th></th>\n",
              "      <th>genres</th>\n",
              "      <th>average_rating</th>\n",
              "    </tr>\n",
              "  </thead>\n",
              "  <tbody>\n",
              "    <tr>\n",
              "      <th>10</th>\n",
              "      <td>Crime|Drama</td>\n",
              "      <td>4.362454</td>\n",
              "    </tr>\n",
              "    <tr>\n",
              "      <th>12</th>\n",
              "      <td>Crime|Mystery|Thriller</td>\n",
              "      <td>4.334372</td>\n",
              "    </tr>\n",
              "    <tr>\n",
              "      <th>15</th>\n",
              "      <td>Drama|War</td>\n",
              "      <td>4.310175</td>\n",
              "    </tr>\n",
              "    <tr>\n",
              "      <th>2</th>\n",
              "      <td>Action|Adventure|Drama</td>\n",
              "      <td>4.274180</td>\n",
              "    </tr>\n",
              "    <tr>\n",
              "      <th>16</th>\n",
              "      <td>Mystery|Thriller</td>\n",
              "      <td>4.271334</td>\n",
              "    </tr>\n",
              "    <tr>\n",
              "      <th>14</th>\n",
              "      <td>Drama|Romance</td>\n",
              "      <td>4.258327</td>\n",
              "    </tr>\n",
              "    <tr>\n",
              "      <th>9</th>\n",
              "      <td>Comedy|War</td>\n",
              "      <td>4.247287</td>\n",
              "    </tr>\n",
              "    <tr>\n",
              "      <th>13</th>\n",
              "      <td>Drama</td>\n",
              "      <td>4.236108</td>\n",
              "    </tr>\n",
              "    <tr>\n",
              "      <th>1</th>\n",
              "      <td>Action|Adventure|Crime|Drama|Thriller</td>\n",
              "      <td>4.235410</td>\n",
              "    </tr>\n",
              "    <tr>\n",
              "      <th>3</th>\n",
              "      <td>Action|Adventure|Mystery|Romance|Thriller</td>\n",
              "      <td>4.233538</td>\n",
              "    </tr>\n",
              "    <tr>\n",
              "      <th>6</th>\n",
              "      <td>Action|Crime|Drama|Thriller</td>\n",
              "      <td>4.227123</td>\n",
              "    </tr>\n",
              "    <tr>\n",
              "      <th>5</th>\n",
              "      <td>Action|Crime|Drama|IMAX</td>\n",
              "      <td>4.220129</td>\n",
              "    </tr>\n",
              "    <tr>\n",
              "      <th>0</th>\n",
              "      <td>Action|Adventure</td>\n",
              "      <td>4.219009</td>\n",
              "    </tr>\n",
              "    <tr>\n",
              "      <th>7</th>\n",
              "      <td>Adventure|Animation|Fantasy</td>\n",
              "      <td>4.203810</td>\n",
              "    </tr>\n",
              "    <tr>\n",
              "      <th>11</th>\n",
              "      <td>Crime|Film-Noir|Mystery|Thriller</td>\n",
              "      <td>4.199673</td>\n",
              "    </tr>\n",
              "    <tr>\n",
              "      <th>8</th>\n",
              "      <td>Comedy|Romance</td>\n",
              "      <td>4.197072</td>\n",
              "    </tr>\n",
              "    <tr>\n",
              "      <th>4</th>\n",
              "      <td>Action|Adventure|Sci-Fi</td>\n",
              "      <td>4.190672</td>\n",
              "    </tr>\n",
              "  </tbody>\n",
              "</table>\n",
              "</div>"
            ],
            "text/plain": [
              "                                       genres  average_rating\n",
              "10                                Crime|Drama        4.362454\n",
              "12                     Crime|Mystery|Thriller        4.334372\n",
              "15                                  Drama|War        4.310175\n",
              "2                      Action|Adventure|Drama        4.274180\n",
              "16                           Mystery|Thriller        4.271334\n",
              "14                              Drama|Romance        4.258327\n",
              "9                                  Comedy|War        4.247287\n",
              "13                                      Drama        4.236108\n",
              "1       Action|Adventure|Crime|Drama|Thriller        4.235410\n",
              "3   Action|Adventure|Mystery|Romance|Thriller        4.233538\n",
              "6                 Action|Crime|Drama|Thriller        4.227123\n",
              "5                     Action|Crime|Drama|IMAX        4.220129\n",
              "0                            Action|Adventure        4.219009\n",
              "7                 Adventure|Animation|Fantasy        4.203810\n",
              "11           Crime|Film-Noir|Mystery|Thriller        4.199673\n",
              "8                              Comedy|Romance        4.197072\n",
              "4                     Action|Adventure|Sci-Fi        4.190672"
            ]
          },
          "metadata": {},
          "execution_count": 36
        }
      ]
    },
    {
      "cell_type": "markdown",
      "metadata": {
        "id": "-Zt3rCVa8P1W"
      },
      "source": [
        "# Check which genres are most rated"
      ]
    },
    {
      "cell_type": "code",
      "metadata": {
        "id": "0PAXIImn8ON6"
      },
      "source": [
        "def count_genre(genres):\n",
        "    '''Create a list by splitting the genre from popular_genre_df and return the count each genre\n",
        "    INPUT :\n",
        "      genres - genres in popular_genre_df\n",
        "    \n",
        "    OUTPUT:\n",
        "      Counter(genre) - counter dictionary of genres\n",
        "    '''\n",
        "    genre = []\n",
        "    for gre in genres:\n",
        "      split_genre = gre.split('|')\n",
        "      genre.extend(split_genre)\n",
        "    return Counter(genre)\n",
        "\n",
        "# Create a counter dictionary to get the count of each genres\n",
        "genre_dict = count_genre(popular_genres_df['genres'])\n",
        "\n",
        "# Create dataframe for frequency graph\n",
        "genre_dict = nltk.FreqDist(genre_dict) \n",
        "\n",
        "genre_df = pd.DataFrame({'genres': list(genre_dict.keys()), 'Count': list(genre_dict.values())})"
      ],
      "execution_count": 37,
      "outputs": []
    },
    {
      "cell_type": "code",
      "metadata": {
        "colab": {
          "base_uri": "https://localhost:8080/",
          "height": 551
        },
        "id": "siJF1bPt8ie-",
        "outputId": "5887cb1f-4eaa-4195-e15b-50d1468fc360"
      },
      "source": [
        "# Plot the graph\n",
        "g = genre_df.nlargest(columns=\"Count\", n = 50) \n",
        "plt.figure(figsize=(15,9)) \n",
        "ax = sns.barplot(data=g, x= \"Count\", y = \"genres\") \n",
        "ax.set(ylabel = 'Genre') \n",
        "plt.show()"
      ],
      "execution_count": 38,
      "outputs": [
        {
          "output_type": "display_data",
          "data": {
            "image/png": "[encoded data removed]",
            "text/plain": [
              "<Figure size 1080x648 with 1 Axes>"
            ]
          },
          "metadata": {
            "needs_background": "light"
          }
        }
      ]
    },
    {
      "cell_type": "markdown",
      "metadata": {
        "id": "AWvVf6Ft8nXs"
      },
      "source": [
        "# Explore tags"
      ]
    },
    {
      "cell_type": "code",
      "metadata": {
        "colab": {
          "base_uri": "https://localhost:8080/",
          "height": 424
        },
        "id": "ElWLsHVa8llj",
        "outputId": "5a77a8bd-666a-4ffd-a2fc-ebb816e16e0f"
      },
      "source": [
        "df_tags"
      ],
      "execution_count": 39,
      "outputs": [
        {
          "output_type": "execute_result",
          "data": {
            "text/html": [
              "<div>\n",
              "<style scoped>\n",
              "    .dataframe tbody tr th:only-of-type {\n",
              "        vertical-align: middle;\n",
              "    }\n",
              "\n",
              "    .dataframe tbody tr th {\n",
              "        vertical-align: top;\n",
              "    }\n",
              "\n",
              "    .dataframe thead th {\n",
              "        text-align: right;\n",
              "    }\n",
              "</style>\n",
              "<table border=\"1\" class=\"dataframe\">\n",
              "  <thead>\n",
              "    <tr style=\"text-align: right;\">\n",
              "      <th></th>\n",
              "      <th>userId</th>\n",
              "      <th>movieId</th>\n",
              "      <th>tag</th>\n",
              "      <th>timestamp</th>\n",
              "    </tr>\n",
              "  </thead>\n",
              "  <tbody>\n",
              "    <tr>\n",
              "      <th>0</th>\n",
              "      <td>18</td>\n",
              "      <td>4141</td>\n",
              "      <td>Mark Waters</td>\n",
              "      <td>2009-04-24 18:19:40</td>\n",
              "    </tr>\n",
              "    <tr>\n",
              "      <th>1</th>\n",
              "      <td>65</td>\n",
              "      <td>208</td>\n",
              "      <td>dark hero</td>\n",
              "      <td>2013-05-10 01:41:18</td>\n",
              "    </tr>\n",
              "    <tr>\n",
              "      <th>2</th>\n",
              "      <td>65</td>\n",
              "      <td>353</td>\n",
              "      <td>dark hero</td>\n",
              "      <td>2013-05-10 01:41:19</td>\n",
              "    </tr>\n",
              "    <tr>\n",
              "      <th>3</th>\n",
              "      <td>65</td>\n",
              "      <td>521</td>\n",
              "      <td>noir thriller</td>\n",
              "      <td>2013-05-10 01:39:43</td>\n",
              "    </tr>\n",
              "    <tr>\n",
              "      <th>4</th>\n",
              "      <td>65</td>\n",
              "      <td>592</td>\n",
              "      <td>dark hero</td>\n",
              "      <td>2013-05-10 01:41:18</td>\n",
              "    </tr>\n",
              "    <tr>\n",
              "      <th>...</th>\n",
              "      <td>...</td>\n",
              "      <td>...</td>\n",
              "      <td>...</td>\n",
              "      <td>...</td>\n",
              "    </tr>\n",
              "    <tr>\n",
              "      <th>465559</th>\n",
              "      <td>138446</td>\n",
              "      <td>55999</td>\n",
              "      <td>dragged</td>\n",
              "      <td>2013-01-23 23:29:32</td>\n",
              "    </tr>\n",
              "    <tr>\n",
              "      <th>465560</th>\n",
              "      <td>138446</td>\n",
              "      <td>55999</td>\n",
              "      <td>Jason Bateman</td>\n",
              "      <td>2013-01-23 23:29:38</td>\n",
              "    </tr>\n",
              "    <tr>\n",
              "      <th>465561</th>\n",
              "      <td>138446</td>\n",
              "      <td>55999</td>\n",
              "      <td>quirky</td>\n",
              "      <td>2013-01-23 23:29:38</td>\n",
              "    </tr>\n",
              "    <tr>\n",
              "      <th>465562</th>\n",
              "      <td>138446</td>\n",
              "      <td>55999</td>\n",
              "      <td>sad</td>\n",
              "      <td>2013-01-23 23:29:32</td>\n",
              "    </tr>\n",
              "    <tr>\n",
              "      <th>465563</th>\n",
              "      <td>138472</td>\n",
              "      <td>923</td>\n",
              "      <td>rise to power</td>\n",
              "      <td>2007-11-02 21:12:47</td>\n",
              "    </tr>\n",
              "  </tbody>\n",
              "</table>\n",
              "<p>465564 rows × 4 columns</p>\n",
              "</div>"
            ],
            "text/plain": [
              "        userId  movieId            tag            timestamp\n",
              "0           18     4141    Mark Waters  2009-04-24 18:19:40\n",
              "1           65      208      dark hero  2013-05-10 01:41:18\n",
              "2           65      353      dark hero  2013-05-10 01:41:19\n",
              "3           65      521  noir thriller  2013-05-10 01:39:43\n",
              "4           65      592      dark hero  2013-05-10 01:41:18\n",
              "...        ...      ...            ...                  ...\n",
              "465559  138446    55999        dragged  2013-01-23 23:29:32\n",
              "465560  138446    55999  Jason Bateman  2013-01-23 23:29:38\n",
              "465561  138446    55999         quirky  2013-01-23 23:29:38\n",
              "465562  138446    55999            sad  2013-01-23 23:29:32\n",
              "465563  138472      923  rise to power  2007-11-02 21:12:47\n",
              "\n",
              "[465564 rows x 4 columns]"
            ]
          },
          "metadata": {},
          "execution_count": 39
        }
      ]
    },
    {
      "cell_type": "code",
      "metadata": {
        "colab": {
          "base_uri": "https://localhost:8080/",
          "height": 206
        },
        "id": "NRaNlPvP8pYa",
        "outputId": "ccaf998c-237a-4277-f21f-00141fd7284e"
      },
      "source": [
        "df_movie_tags_counts = df_tags.groupby('movieId')['tag'].count().reset_index()\n",
        "df_movie_tags_counts_sorted = df_movie_tags_counts.sort_values(by=['tag'], ascending=False)\n",
        "df_movie_tags_counts_sorted.head()"
      ],
      "execution_count": 40,
      "outputs": [
        {
          "output_type": "execute_result",
          "data": {
            "text/html": [
              "<div>\n",
              "<style scoped>\n",
              "    .dataframe tbody tr th:only-of-type {\n",
              "        vertical-align: middle;\n",
              "    }\n",
              "\n",
              "    .dataframe tbody tr th {\n",
              "        vertical-align: top;\n",
              "    }\n",
              "\n",
              "    .dataframe thead th {\n",
              "        text-align: right;\n",
              "    }\n",
              "</style>\n",
              "<table border=\"1\" class=\"dataframe\">\n",
              "  <thead>\n",
              "    <tr style=\"text-align: right;\">\n",
              "      <th></th>\n",
              "      <th>movieId</th>\n",
              "      <th>tag</th>\n",
              "    </tr>\n",
              "  </thead>\n",
              "  <tbody>\n",
              "    <tr>\n",
              "      <th>258</th>\n",
              "      <td>296</td>\n",
              "      <td>1994</td>\n",
              "    </tr>\n",
              "    <tr>\n",
              "      <th>2465</th>\n",
              "      <td>2959</td>\n",
              "      <td>1779</td>\n",
              "    </tr>\n",
              "    <tr>\n",
              "      <th>12883</th>\n",
              "      <td>79132</td>\n",
              "      <td>1552</td>\n",
              "    </tr>\n",
              "    <tr>\n",
              "      <th>2117</th>\n",
              "      <td>2571</td>\n",
              "      <td>1430</td>\n",
              "    </tr>\n",
              "    <tr>\n",
              "      <th>276</th>\n",
              "      <td>318</td>\n",
              "      <td>1339</td>\n",
              "    </tr>\n",
              "  </tbody>\n",
              "</table>\n",
              "</div>"
            ],
            "text/plain": [
              "       movieId   tag\n",
              "258        296  1994\n",
              "2465      2959  1779\n",
              "12883    79132  1552\n",
              "2117      2571  1430\n",
              "276        318  1339"
            ]
          },
          "metadata": {},
          "execution_count": 40
        }
      ]
    },
    {
      "cell_type": "code",
      "metadata": {
        "colab": {
          "base_uri": "https://localhost:8080/",
          "height": 677
        },
        "id": "QFypzXO9892f",
        "outputId": "1ba0f2ef-e46a-4043-9d7d-b8d0d69da7fc"
      },
      "source": [
        "df_movie_tags_counts_sorted[:20].merge(df_movies, how='left', on='movieId')"
      ],
      "execution_count": 41,
      "outputs": [
        {
          "output_type": "execute_result",
          "data": {
            "text/html": [
              "<div>\n",
              "<style scoped>\n",
              "    .dataframe tbody tr th:only-of-type {\n",
              "        vertical-align: middle;\n",
              "    }\n",
              "\n",
              "    .dataframe tbody tr th {\n",
              "        vertical-align: top;\n",
              "    }\n",
              "\n",
              "    .dataframe thead th {\n",
              "        text-align: right;\n",
              "    }\n",
              "</style>\n",
              "<table border=\"1\" class=\"dataframe\">\n",
              "  <thead>\n",
              "    <tr style=\"text-align: right;\">\n",
              "      <th></th>\n",
              "      <th>movieId</th>\n",
              "      <th>tag</th>\n",
              "      <th>title</th>\n",
              "      <th>genres</th>\n",
              "    </tr>\n",
              "  </thead>\n",
              "  <tbody>\n",
              "    <tr>\n",
              "      <th>0</th>\n",
              "      <td>296</td>\n",
              "      <td>1994</td>\n",
              "      <td>Pulp Fiction (1994)</td>\n",
              "      <td>Comedy|Crime|Drama|Thriller</td>\n",
              "    </tr>\n",
              "    <tr>\n",
              "      <th>1</th>\n",
              "      <td>2959</td>\n",
              "      <td>1779</td>\n",
              "      <td>Fight Club (1999)</td>\n",
              "      <td>Action|Crime|Drama|Thriller</td>\n",
              "    </tr>\n",
              "    <tr>\n",
              "      <th>2</th>\n",
              "      <td>79132</td>\n",
              "      <td>1552</td>\n",
              "      <td>Inception (2010)</td>\n",
              "      <td>Action|Crime|Drama|Mystery|Sci-Fi|Thriller|IMAX</td>\n",
              "    </tr>\n",
              "    <tr>\n",
              "      <th>3</th>\n",
              "      <td>2571</td>\n",
              "      <td>1430</td>\n",
              "      <td>Matrix, The (1999)</td>\n",
              "      <td>Action|Sci-Fi|Thriller</td>\n",
              "    </tr>\n",
              "    <tr>\n",
              "      <th>4</th>\n",
              "      <td>318</td>\n",
              "      <td>1339</td>\n",
              "      <td>Shawshank Redemption, The (1994)</td>\n",
              "      <td>Crime|Drama</td>\n",
              "    </tr>\n",
              "    <tr>\n",
              "      <th>5</th>\n",
              "      <td>7361</td>\n",
              "      <td>1240</td>\n",
              "      <td>Eternal Sunshine of the Spotless Mind (2004)</td>\n",
              "      <td>Drama|Romance|Sci-Fi</td>\n",
              "    </tr>\n",
              "    <tr>\n",
              "      <th>6</th>\n",
              "      <td>4878</td>\n",
              "      <td>1177</td>\n",
              "      <td>Donnie Darko (2001)</td>\n",
              "      <td>Drama|Mystery|Sci-Fi|Thriller</td>\n",
              "    </tr>\n",
              "    <tr>\n",
              "      <th>7</th>\n",
              "      <td>4226</td>\n",
              "      <td>1168</td>\n",
              "      <td>Memento (2000)</td>\n",
              "      <td>Mystery|Thriller</td>\n",
              "    </tr>\n",
              "    <tr>\n",
              "      <th>8</th>\n",
              "      <td>593</td>\n",
              "      <td>1100</td>\n",
              "      <td>Silence of the Lambs, The (1991)</td>\n",
              "      <td>Crime|Horror|Thriller</td>\n",
              "    </tr>\n",
              "    <tr>\n",
              "      <th>9</th>\n",
              "      <td>72998</td>\n",
              "      <td>995</td>\n",
              "      <td>Avatar (2009)</td>\n",
              "      <td>Action|Adventure|Sci-Fi|IMAX</td>\n",
              "    </tr>\n",
              "    <tr>\n",
              "      <th>10</th>\n",
              "      <td>356</td>\n",
              "      <td>991</td>\n",
              "      <td>Forrest Gump (1994)</td>\n",
              "      <td>Comedy|Drama|Romance|War</td>\n",
              "    </tr>\n",
              "    <tr>\n",
              "      <th>11</th>\n",
              "      <td>47</td>\n",
              "      <td>975</td>\n",
              "      <td>Seven (a.k.a. Se7en) (1995)</td>\n",
              "      <td>Mystery|Thriller</td>\n",
              "    </tr>\n",
              "    <tr>\n",
              "      <th>12</th>\n",
              "      <td>541</td>\n",
              "      <td>969</td>\n",
              "      <td>Blade Runner (1982)</td>\n",
              "      <td>Action|Sci-Fi|Thriller</td>\n",
              "    </tr>\n",
              "    <tr>\n",
              "      <th>13</th>\n",
              "      <td>58559</td>\n",
              "      <td>963</td>\n",
              "      <td>Dark Knight, The (2008)</td>\n",
              "      <td>Action|Crime|Drama|IMAX</td>\n",
              "    </tr>\n",
              "    <tr>\n",
              "      <th>14</th>\n",
              "      <td>44191</td>\n",
              "      <td>946</td>\n",
              "      <td>V for Vendetta (2006)</td>\n",
              "      <td>Action|Sci-Fi|Thriller|IMAX</td>\n",
              "    </tr>\n",
              "    <tr>\n",
              "      <th>15</th>\n",
              "      <td>4973</td>\n",
              "      <td>922</td>\n",
              "      <td>Amelie (Fabuleux destin d'Amélie Poulain, Le) ...</td>\n",
              "      <td>Comedy|Romance</td>\n",
              "    </tr>\n",
              "    <tr>\n",
              "      <th>16</th>\n",
              "      <td>32587</td>\n",
              "      <td>907</td>\n",
              "      <td>Sin City (2005)</td>\n",
              "      <td>Action|Crime|Film-Noir|Mystery|Thriller</td>\n",
              "    </tr>\n",
              "    <tr>\n",
              "      <th>17</th>\n",
              "      <td>32</td>\n",
              "      <td>899</td>\n",
              "      <td>Twelve Monkeys (a.k.a. 12 Monkeys) (1995)</td>\n",
              "      <td>Mystery|Sci-Fi|Thriller</td>\n",
              "    </tr>\n",
              "    <tr>\n",
              "      <th>18</th>\n",
              "      <td>50</td>\n",
              "      <td>891</td>\n",
              "      <td>Usual Suspects, The (1995)</td>\n",
              "      <td>Crime|Mystery|Thriller</td>\n",
              "    </tr>\n",
              "    <tr>\n",
              "      <th>19</th>\n",
              "      <td>48780</td>\n",
              "      <td>880</td>\n",
              "      <td>Prestige, The (2006)</td>\n",
              "      <td>Drama|Mystery|Sci-Fi|Thriller</td>\n",
              "    </tr>\n",
              "  </tbody>\n",
              "</table>\n",
              "</div>"
            ],
            "text/plain": [
              "    movieId  ...                                           genres\n",
              "0       296  ...                      Comedy|Crime|Drama|Thriller\n",
              "1      2959  ...                      Action|Crime|Drama|Thriller\n",
              "2     79132  ...  Action|Crime|Drama|Mystery|Sci-Fi|Thriller|IMAX\n",
              "3      2571  ...                           Action|Sci-Fi|Thriller\n",
              "4       318  ...                                      Crime|Drama\n",
              "5      7361  ...                             Drama|Romance|Sci-Fi\n",
              "6      4878  ...                    Drama|Mystery|Sci-Fi|Thriller\n",
              "7      4226  ...                                 Mystery|Thriller\n",
              "8       593  ...                            Crime|Horror|Thriller\n",
              "9     72998  ...                     Action|Adventure|Sci-Fi|IMAX\n",
              "10      356  ...                         Comedy|Drama|Romance|War\n",
              "11       47  ...                                 Mystery|Thriller\n",
              "12      541  ...                           Action|Sci-Fi|Thriller\n",
              "13    58559  ...                          Action|Crime|Drama|IMAX\n",
              "14    44191  ...                      Action|Sci-Fi|Thriller|IMAX\n",
              "15     4973  ...                                   Comedy|Romance\n",
              "16    32587  ...          Action|Crime|Film-Noir|Mystery|Thriller\n",
              "17       32  ...                          Mystery|Sci-Fi|Thriller\n",
              "18       50  ...                           Crime|Mystery|Thriller\n",
              "19    48780  ...                    Drama|Mystery|Sci-Fi|Thriller\n",
              "\n",
              "[20 rows x 4 columns]"
            ]
          },
          "metadata": {},
          "execution_count": 41
        }
      ]
    }
  ]
}